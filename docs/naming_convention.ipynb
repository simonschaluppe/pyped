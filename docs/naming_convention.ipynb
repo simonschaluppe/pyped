{
 "cells": [
  {
   "cell_type": "markdown",
   "metadata": {
    "collapsed": true,
    "pycharm": {
     "name": "#%% md\n"
    }
   },
   "source": [
    "# Naming Convention\n",
    "\n",
    "* All names will be in english to facilitate international publication and compatability\n",
    "* Names will inevitably and frequently change during development - Until we settle on a tried and tested data structure and app architecture.\n",
    "This will happen sometime in the future but does not concern us right now.\n",
    "* always_use_lower_case_separated_by_underscore_for_variable_names\n",
    "* Short is better than long...\n",
    "* But descriptive is better than abbreviated:\n",
    "*meta_building_wall_transmittance_avg*,  not ~~avg_Uval_W~~\n",
    "    * names will be used away from their excel context and must therefore be as self-explanatory as possible\n",
    "* Name parts follow hierarchy: *meta_building_wall_transmittance_avg*,\n",
    " not  ~~avg_wall_transmittance_of_building_in_meta~~\n",
    "* For excel-names (which will likely change in python later on)\n",
    "    * sheet_aggregation_variable_name_adjective (mean, avg)\n",
    "    * if a cell represents more than one variable, assign different names for the same cell:\n",
    "        * e.g. GasFWHilfsstrom = meta_auxiliary_power_percentage_gas **and** meta_auxiliary_power_percentage_district_heating\n",
    "\n",
    "* when in doubt about translations, ask [dict.cc](www.dict.cc), not google.\n"
   ]
  }
 ],
 "metadata": {
  "kernelspec": {
   "display_name": "Python 3",
   "language": "python",
   "name": "python3"
  },
  "language_info": {
   "codemirror_mode": {
    "name": "ipython",
    "version": 3
   },
   "file_extension": ".py",
   "mimetype": "text/x-python",
   "name": "python",
   "nbconvert_exporter": "python",
   "pygments_lexer": "ipython3",
   "version": "3.7.6"
  }
 },
 "nbformat": 4,
 "nbformat_minor": 1
}
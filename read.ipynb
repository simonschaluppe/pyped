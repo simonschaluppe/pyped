{
 "cells": [
  {
   "cell_type": "markdown",
   "source": [
    "works, so lets try the same in xlwings"
   ],
   "metadata": {
    "collapsed": false,
    "pycharm": {
     "name": "#%% md\n"
    }
   }
  },
  {
   "cell_type": "code",
   "execution_count": 5,
   "outputs": [
    {
     "data": {
      "text/plain": "[<Name '_xlfn.IFERROR': =#NAME?>, <Name 'meta_auxiliary_power_percentage_district_heating': =META!$BX$2>, <Name 'meta_auxiliary_power_percentage_gas': =META!$BX$2>, ...]"
     },
     "execution_count": 5,
     "metadata": {},
     "output_type": "execute_result"
    }
   ],
   "source": [
    "import xlwings as xw\n",
    "wb = xw.Book(\"data/META.xlsx\")\n",
    "\n",
    "wb.names"
   ],
   "metadata": {
    "collapsed": false,
    "pycharm": {
     "name": "#%%\n"
    }
   }
  },
  {
   "cell_type": "code",
   "execution_count": 7,
   "outputs": [
    {
     "data": {
      "text/plain": "'meta_building_effective_area_per_Person_office'"
     },
     "execution_count": 7,
     "metadata": {},
     "output_type": "execute_result"
    }
   ],
   "source": [
    "a = wb.names[10]\n",
    "a.name"
   ],
   "metadata": {
    "collapsed": false,
    "pycharm": {
     "name": "#%%\n"
    }
   }
  },
  {
   "cell_type": "code",
   "execution_count": 49,
   "outputs": [
    {
     "data": {
      "text/plain": "\"='Aufgabe 1'!$J$15:$J$27\""
     },
     "execution_count": 49,
     "metadata": {},
     "output_type": "execute_result"
    }
   ],
   "source": [
    "a.refers_to"
   ],
   "metadata": {
    "collapsed": false,
    "pycharm": {
     "name": "#%%\n"
    }
   }
  },
  {
   "cell_type": "code",
   "execution_count": 50,
   "outputs": [
    {
     "data": {
      "text/plain": "<Range [test.xlsx]Aufgabe 1!$J$15:$J$27>"
     },
     "execution_count": 50,
     "metadata": {},
     "output_type": "execute_result"
    }
   ],
   "source": [
    "a.refers_to_range"
   ],
   "metadata": {
    "collapsed": false,
    "pycharm": {
     "name": "#%%\n"
    }
   }
  },
  {
   "cell_type": "code",
   "execution_count": 51,
   "outputs": [
    {
     "name": "stdout",
     "output_type": "stream",
     "text": [
      "cooling_demand <Range [test.xlsx]Aufgabe 1!$J$15:$J$27> [430320.0, 59850.0, 82400.0, 10700.0, 12900.0, 98019.99999999999, 35838.0, 8300.0, 123000.0, 94800.0, 17600.0, 88600.0, 0.0]\n",
      "cooling_demand_specific <Range [test.xlsx]Aufgabe 1!$G$15:$G$27> [6.6, 13.3, 20.6, 10.7, 12.9, 16.9, 9.9, 8.3, 20.5, 15.8, 17.6, 88.6, None]\n",
      "cooling_full_load_hours <Range [test.xlsx]Aufgabe 1!$H$15:$H$27> [549.9999999999999, 490.0, 792.3076923076924, 254.76190476190476, 586.3636363636364, 469.4444444444444, 267.56756756756755, 395.2380952380953, 427.0833333333333, 329.1666666666667, 838.0952380952381, 2160.975609756097, None]\n",
      "cooling_load <Range [test.xlsx]Aufgabe 1!$I$15:$I$27> [782.4, 121.5, 104.0, 42.0, 22.0, 208.8, 133.94, 21.0, 288.0, 288.0, 21.0, 41.0, 0.0]\n",
      "cooling_power_specific <Range [test.xlsx]Aufgabe 1!$F$15:$F$27> [12.0, 27.0, 26.0, 42.0, 22.0, 36.0, 37.0, 21.0, 48.0, 48.0, 21.0, 41.0, None]\n",
      "customers <Range [test.xlsx]Aufgabe 1!$H$35> 50.0\n",
      "NGF_1.1 <Range [test.xlsx]Aufgabe 1!$E$15> 65200.0\n",
      "NGF_12 <Range [test.xlsx]Aufgabe 1!$E$27> 19344.0\n",
      "NGF_3.1 <Range [test.xlsx]Aufgabe 1!$E$16> 4500.0\n",
      "NGF_3.2 <Range [test.xlsx]Aufgabe 1!$E$17> 4000.0\n",
      "NGF_3.3 <Range [test.xlsx]Aufgabe 1!$E$18> 1000.0\n",
      "NGF_3.4 <Range [test.xlsx]Aufgabe 1!$E$19> 1000.0\n",
      "NGF_4.1 <Range [test.xlsx]Aufgabe 1!$E$20> 5800.0\n",
      "NGF_4.2 <Range [test.xlsx]Aufgabe 1!$E$21> 3620.0\n",
      "NGF_4.3 <Range [test.xlsx]Aufgabe 1!$E$22> 1000.0\n",
      "NGF_4.4 <Range [test.xlsx]Aufgabe 1!$E$23> 6000.0\n",
      "NGF_5.1 <Range [test.xlsx]Aufgabe 1!$E$25> 1000.0\n",
      "NGF_5.2 <Range [test.xlsx]Aufgabe 1!$E$26> 1000.0\n",
      "NGF_9.3 <Range [test.xlsx]Aufgabe 1!$E$24> 6000.0\n"
     ]
    }
   ],
   "source": [
    "for name in wb.names:\n",
    "    print(name.name, name.refers_to_range, name.refers_to_range.value)"
   ],
   "metadata": {
    "collapsed": false,
    "pycharm": {
     "name": "#%%\n"
    }
   }
  },
  {
   "cell_type": "markdown",
   "source": [
    "seems simpler"
   ],
   "metadata": {
    "collapsed": false,
    "pycharm": {
     "name": "#%% md\n"
    }
   }
  },
  {
   "cell_type": "code",
   "execution_count": 52,
   "outputs": [
    {
     "data": {
      "text/plain": "<Range [test.xlsx]Aufgabe 1!$J$15:$J$27>"
     },
     "execution_count": 52,
     "metadata": {},
     "output_type": "execute_result"
    }
   ],
   "source": [
    "xw.Range('cooling_demand')"
   ],
   "metadata": {
    "collapsed": false,
    "pycharm": {
     "name": "#%%\n"
    }
   }
  },
  {
   "cell_type": "markdown",
   "source": [
    "```\n",
    "xw.Range('A1')\n",
    "xw.Range('A1:C3')\n",
    "xw.Range((1,1))\n",
    "xw.Range((1,1), (3,3))\n",
    "xw.Range('NamedRange')\n",
    "xw.Range(xw.Range('A1'), xw.Range('B2'))\n",
    "```\n",
    "\n",
    "https://docs.xlwings.org/en/stable/syntax_overview.html#full-qualification\n",
    "\n",
    "Round brackets follow Excel’s behavior (i.e. 1-based indexing),\n",
    "while square brackets use Python’s 0-based indexing/slicing.\n",
    "As an example, the following expressions all reference the same range:\n",
    "```\n",
    "xw.apps[763].books[0].sheets[0].range('A1')\n",
    "xw.apps(10559).books(1).sheets(1).range('A1')\n",
    "xw.apps[763].books['Book1'].sheets['Sheet1'].range('A1')\n",
    "xw.apps(10559).books('Book1').sheets('Sheet1').range('A1')\n",
    "```\n",
    "\n",
    "the other way around works too\n",
    "\n",
    "Try to minimize the number of interactions with Excel.\n",
    "It is always more efficient to do `sht.range('A1').value = [[1,2],[3,4]]`\n",
    "than `sht.range('A1').value = [1, 2]`  and `sht.range('A2').value = [3, 4]`."
   ],
   "metadata": {
    "collapsed": false,
    "pycharm": {
     "name": "#%% md\n"
    }
   }
  },
  {
   "cell_type": "code",
   "execution_count": 52,
   "outputs": [],
   "source": [],
   "metadata": {
    "collapsed": false,
    "pycharm": {
     "name": "#%%\n"
    }
   }
  }
 ],
 "metadata": {
  "kernelspec": {
   "display_name": "Python 3",
   "language": "python",
   "name": "python3"
  },
  "language_info": {
   "codemirror_mode": {
    "name": "ipython",
    "version": 2
   },
   "file_extension": ".py",
   "mimetype": "text/x-python",
   "name": "python",
   "nbconvert_exporter": "python",
   "pygments_lexer": "ipython2",
   "version": "2.7.6"
  },
  "pycharm": {
   "stem_cell": {
    "cell_type": "raw",
    "source": [
     " \n"
    ],
    "metadata": {
     "collapsed": false
    }
   }
  }
 },
 "nbformat": 4,
 "nbformat_minor": 0
}
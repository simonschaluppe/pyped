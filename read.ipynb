{
 "cells": [
  {
   "cell_type": "code",
   "execution_count": 1,
   "metadata": {
    "collapsed": true,
    "pycharm": {
     "name": "#%%\n"
    }
   },
   "outputs": [
    {
     "name": "stderr",
     "output_type": "stream",
     "text": [
      "C:\\Users\\Simon Schneider\\anaconda\\envs\\FLUCCO+\\lib\\site-packages\\openpyxl\\worksheet\\_reader.py:300: UserWarning: Unknown extension is not supported and will be removed\n",
      "  warn(msg)\n",
      "C:\\Users\\Simon Schneider\\anaconda\\envs\\FLUCCO+\\lib\\site-packages\\openpyxl\\worksheet\\_reader.py:300: UserWarning: Conditional Formatting extension is not supported and will be removed\n",
      "  warn(msg)\n",
      "C:\\Users\\Simon Schneider\\anaconda\\envs\\FLUCCO+\\lib\\site-packages\\openpyxl\\worksheet\\_reader.py:300: UserWarning: Sparkline Group extension is not supported and will be removed\n",
      "  warn(msg)\n"
     ]
    },
    {
     "data": {
      "text/plain": "<openpyxl.workbook.defined_name.DefinedNameList object>\nParameters:\ndefinedName=[<openpyxl.workbook.defined_name.DefinedName object>\nParameters:\nname='cooling_demand', comment=None, customMenu=None, description=None, help=None, statusBar=None, localSheetId=None, hidden=None, function=None, vbProcedure=None, xlm=None, functionGroupId=None, shortcutKey=None, publishToServer=None, workbookParameter=None, attr_text=\"'Aufgabe 1'!$J$15:$J$27\", <openpyxl.workbook.defined_name.DefinedName object>\nParameters:\nname='cooling_demand_specific', comment=None, customMenu=None, description=None, help=None, statusBar=None, localSheetId=None, hidden=None, function=None, vbProcedure=None, xlm=None, functionGroupId=None, shortcutKey=None, publishToServer=None, workbookParameter=None, attr_text=\"'Aufgabe 1'!$G$15:$G$27\", <openpyxl.workbook.defined_name.DefinedName object>\nParameters:\nname='cooling_full_load_hours', comment=None, customMenu=None, description=None, help=None, statusBar=None, localSheetId=None, hidden=None, function=None, vbProcedure=None, xlm=None, functionGroupId=None, shortcutKey=None, publishToServer=None, workbookParameter=None, attr_text=\"'Aufgabe 1'!$H$15:$H$27\", <openpyxl.workbook.defined_name.DefinedName object>\nParameters:\nname='cooling_load', comment=None, customMenu=None, description=None, help=None, statusBar=None, localSheetId=None, hidden=None, function=None, vbProcedure=None, xlm=None, functionGroupId=None, shortcutKey=None, publishToServer=None, workbookParameter=None, attr_text=\"'Aufgabe 1'!$I$15:$I$27\", <openpyxl.workbook.defined_name.DefinedName object>\nParameters:\nname='cooling_power_specific', comment=None, customMenu=None, description=None, help=None, statusBar=None, localSheetId=None, hidden=None, function=None, vbProcedure=None, xlm=None, functionGroupId=None, shortcutKey=None, publishToServer=None, workbookParameter=None, attr_text=\"'Aufgabe 1'!$F$15:$F$27\", <openpyxl.workbook.defined_name.DefinedName object>\nParameters:\nname='customers', comment=None, customMenu=None, description=None, help=None, statusBar=None, localSheetId=None, hidden=None, function=None, vbProcedure=None, xlm=None, functionGroupId=None, shortcutKey=None, publishToServer=None, workbookParameter=None, attr_text=\"'Aufgabe 1'!$H$35\", <openpyxl.workbook.defined_name.DefinedName object>\nParameters:\nname='NGF_1.1', comment=None, customMenu=None, description=None, help=None, statusBar=None, localSheetId=None, hidden=None, function=None, vbProcedure=None, xlm=None, functionGroupId=None, shortcutKey=None, publishToServer=None, workbookParameter=None, attr_text=\"'Aufgabe 1'!$E$15\", <openpyxl.workbook.defined_name.DefinedName object>\nParameters:\nname='NGF_12', comment=None, customMenu=None, description=None, help=None, statusBar=None, localSheetId=None, hidden=None, function=None, vbProcedure=None, xlm=None, functionGroupId=None, shortcutKey=None, publishToServer=None, workbookParameter=None, attr_text=\"'Aufgabe 1'!$E$27\", <openpyxl.workbook.defined_name.DefinedName object>\nParameters:\nname='NGF_3.1', comment=None, customMenu=None, description=None, help=None, statusBar=None, localSheetId=None, hidden=None, function=None, vbProcedure=None, xlm=None, functionGroupId=None, shortcutKey=None, publishToServer=None, workbookParameter=None, attr_text=\"'Aufgabe 1'!$E$16\", <openpyxl.workbook.defined_name.DefinedName object>\nParameters:\nname='NGF_3.2', comment=None, customMenu=None, description=None, help=None, statusBar=None, localSheetId=None, hidden=None, function=None, vbProcedure=None, xlm=None, functionGroupId=None, shortcutKey=None, publishToServer=None, workbookParameter=None, attr_text=\"'Aufgabe 1'!$E$17\", <openpyxl.workbook.defined_name.DefinedName object>\nParameters:\nname='NGF_3.3', comment=None, customMenu=None, description=None, help=None, statusBar=None, localSheetId=None, hidden=None, function=None, vbProcedure=None, xlm=None, functionGroupId=None, shortcutKey=None, publishToServer=None, workbookParameter=None, attr_text=\"'Aufgabe 1'!$E$18\", <openpyxl.workbook.defined_name.DefinedName object>\nParameters:\nname='NGF_3.4', comment=None, customMenu=None, description=None, help=None, statusBar=None, localSheetId=None, hidden=None, function=None, vbProcedure=None, xlm=None, functionGroupId=None, shortcutKey=None, publishToServer=None, workbookParameter=None, attr_text=\"'Aufgabe 1'!$E$19\", <openpyxl.workbook.defined_name.DefinedName object>\nParameters:\nname='NGF_4.1', comment=None, customMenu=None, description=None, help=None, statusBar=None, localSheetId=None, hidden=None, function=None, vbProcedure=None, xlm=None, functionGroupId=None, shortcutKey=None, publishToServer=None, workbookParameter=None, attr_text=\"'Aufgabe 1'!$E$20\", <openpyxl.workbook.defined_name.DefinedName object>\nParameters:\nname='NGF_4.2', comment=None, customMenu=None, description=None, help=None, statusBar=None, localSheetId=None, hidden=None, function=None, vbProcedure=None, xlm=None, functionGroupId=None, shortcutKey=None, publishToServer=None, workbookParameter=None, attr_text=\"'Aufgabe 1'!$E$21\", <openpyxl.workbook.defined_name.DefinedName object>\nParameters:\nname='NGF_4.3', comment=None, customMenu=None, description=None, help=None, statusBar=None, localSheetId=None, hidden=None, function=None, vbProcedure=None, xlm=None, functionGroupId=None, shortcutKey=None, publishToServer=None, workbookParameter=None, attr_text=\"'Aufgabe 1'!$E$22\", <openpyxl.workbook.defined_name.DefinedName object>\nParameters:\nname='NGF_4.4', comment=None, customMenu=None, description=None, help=None, statusBar=None, localSheetId=None, hidden=None, function=None, vbProcedure=None, xlm=None, functionGroupId=None, shortcutKey=None, publishToServer=None, workbookParameter=None, attr_text=\"'Aufgabe 1'!$E$23\", <openpyxl.workbook.defined_name.DefinedName object>\nParameters:\nname='NGF_5.1', comment=None, customMenu=None, description=None, help=None, statusBar=None, localSheetId=None, hidden=None, function=None, vbProcedure=None, xlm=None, functionGroupId=None, shortcutKey=None, publishToServer=None, workbookParameter=None, attr_text=\"'Aufgabe 1'!$E$25\", <openpyxl.workbook.defined_name.DefinedName object>\nParameters:\nname='NGF_5.2', comment=None, customMenu=None, description=None, help=None, statusBar=None, localSheetId=None, hidden=None, function=None, vbProcedure=None, xlm=None, functionGroupId=None, shortcutKey=None, publishToServer=None, workbookParameter=None, attr_text=\"'Aufgabe 1'!$E$26\", <openpyxl.workbook.defined_name.DefinedName object>\nParameters:\nname='NGF_9.3', comment=None, customMenu=None, description=None, help=None, statusBar=None, localSheetId=None, hidden=None, function=None, vbProcedure=None, xlm=None, functionGroupId=None, shortcutKey=None, publishToServer=None, workbookParameter=None, attr_text=\"'Aufgabe 1'!$E$24\"]"
     },
     "execution_count": 1,
     "metadata": {},
     "output_type": "execute_result"
    }
   ],
   "source": [
    "import openpyxl\n",
    "# https://openpyxl.readthedocs.io/en/stable/index.html\n",
    "wb = openpyxl.load_workbook(\"data/test.xlsx\")\n",
    "wb.defined_names\n"
   ]
  },
  {
   "cell_type": "code",
   "execution_count": 2,
   "outputs": [
    {
     "name": "stdout",
     "output_type": "stream",
     "text": [
      "name: cooling_demand, address: 'Aufgabe 1'!$J$15:$J$27\n",
      "name: cooling_demand_specific, address: 'Aufgabe 1'!$G$15:$G$27\n",
      "name: cooling_full_load_hours, address: 'Aufgabe 1'!$H$15:$H$27\n",
      "name: cooling_load, address: 'Aufgabe 1'!$I$15:$I$27\n",
      "name: cooling_power_specific, address: 'Aufgabe 1'!$F$15:$F$27\n",
      "name: customers, address: 'Aufgabe 1'!$H$35\n",
      "name: NGF_1.1, address: 'Aufgabe 1'!$E$15\n",
      "name: NGF_12, address: 'Aufgabe 1'!$E$27\n",
      "name: NGF_3.1, address: 'Aufgabe 1'!$E$16\n",
      "name: NGF_3.2, address: 'Aufgabe 1'!$E$17\n",
      "name: NGF_3.3, address: 'Aufgabe 1'!$E$18\n",
      "name: NGF_3.4, address: 'Aufgabe 1'!$E$19\n",
      "name: NGF_4.1, address: 'Aufgabe 1'!$E$20\n",
      "name: NGF_4.2, address: 'Aufgabe 1'!$E$21\n",
      "name: NGF_4.3, address: 'Aufgabe 1'!$E$22\n",
      "name: NGF_4.4, address: 'Aufgabe 1'!$E$23\n",
      "name: NGF_5.1, address: 'Aufgabe 1'!$E$25\n",
      "name: NGF_5.2, address: 'Aufgabe 1'!$E$26\n",
      "name: NGF_9.3, address: 'Aufgabe 1'!$E$24\n"
     ]
    }
   ],
   "source": [
    "defined_names= wb.defined_names.definedName\n",
    "for name in defined_names:\n",
    "    print(f\"name: {name.name}, address: {name.attr_text}\")"
   ],
   "metadata": {
    "collapsed": false,
    "pycharm": {
     "name": "#%%\n"
    }
   }
  },
  {
   "cell_type": "code",
   "execution_count": 7,
   "outputs": [
    {
     "name": "stdout",
     "output_type": "stream",
     "text": [
      "cell <Cell 'Aufgabe 1'.E27> - Value: 19344\n"
     ]
    }
   ],
   "source": [
    "a = defined_names[7]\n",
    "for title, coord in a.destinations:\n",
    "    cell = wb[title][coord]\n",
    "    print(f\"cell {cell} - Value: {cell.value}\")"
   ],
   "metadata": {
    "collapsed": false,
    "pycharm": {
     "name": "#%% single cell ranges\n"
    }
   }
  },
  {
   "cell_type": "code",
   "execution_count": 14,
   "outputs": [
    {
     "name": "stdout",
     "output_type": "stream",
     "text": [
      "Aufgabe 1 $G$15:$G$27\n",
      "cell <Cell 'Aufgabe 1'.G15> - Value: 6.6\n",
      "cell <Cell 'Aufgabe 1'.G16> - Value: 13.3\n",
      "cell <Cell 'Aufgabe 1'.G17> - Value: 20.6\n",
      "cell <Cell 'Aufgabe 1'.G18> - Value: 10.7\n",
      "cell <Cell 'Aufgabe 1'.G19> - Value: 12.9\n",
      "cell <Cell 'Aufgabe 1'.G20> - Value: 16.9\n",
      "cell <Cell 'Aufgabe 1'.G21> - Value: 9.9\n",
      "cell <Cell 'Aufgabe 1'.G22> - Value: 8.3\n",
      "cell <Cell 'Aufgabe 1'.G23> - Value: 20.5\n",
      "cell <Cell 'Aufgabe 1'.G24> - Value: 15.8\n",
      "cell <Cell 'Aufgabe 1'.G25> - Value: 17.6\n",
      "cell <Cell 'Aufgabe 1'.G26> - Value: 88.6\n",
      "cell <Cell 'Aufgabe 1'.G27> - Value: None\n"
     ]
    }
   ],
   "source": [
    "a = defined_names[1]\n",
    "for title, coord in a.destinations:\n",
    "    print(title, coord)\n",
    "    ws = wb[title]\n",
    "\n",
    "for cell in ws[coord]:\n",
    "    print(f\"cell {cell[0]} - Value: {cell[0].value}\")\n"
   ],
   "metadata": {
    "collapsed": false,
    "pycharm": {
     "name": "#%% multiple cell ranges\n"
    }
   }
  },
  {
   "cell_type": "markdown",
   "source": [
    "works, so lets try the same in xlwings"
   ],
   "metadata": {
    "collapsed": false,
    "pycharm": {
     "name": "#%% md\n"
    }
   }
  },
  {
   "cell_type": "code",
   "execution_count": 16,
   "outputs": [
    {
     "data": {
      "text/plain": "[<Name 'cooling_demand': ='Aufgabe 1'!$J$15:$J$27>, <Name 'cooling_demand_specific': ='Aufgabe 1'!$G$15:$G$27>, <Name 'cooling_full_load_hours': ='Aufgabe 1'!$H$15:$H$27>, ...]"
     },
     "execution_count": 16,
     "metadata": {},
     "output_type": "execute_result"
    }
   ],
   "source": [
    "import xlwings as xw\n",
    "wb = xw.Book(\"data/test.xlsx\")\n",
    "\n",
    "wb.names"
   ],
   "metadata": {
    "collapsed": false,
    "pycharm": {
     "name": "#%%\n"
    }
   }
  },
  {
   "cell_type": "code",
   "execution_count": 22,
   "outputs": [
    {
     "data": {
      "text/plain": "'cooling_demand'"
     },
     "execution_count": 22,
     "metadata": {},
     "output_type": "execute_result"
    }
   ],
   "source": [
    "a = wb.names[0]\n",
    "a.name"
   ],
   "metadata": {
    "collapsed": false,
    "pycharm": {
     "name": "#%%\n"
    }
   }
  },
  {
   "cell_type": "code",
   "execution_count": 24,
   "outputs": [
    {
     "data": {
      "text/plain": "\"='Aufgabe 1'!$J$15:$J$27\""
     },
     "execution_count": 24,
     "metadata": {},
     "output_type": "execute_result"
    }
   ],
   "source": [
    "a.refers_to"
   ],
   "metadata": {
    "collapsed": false,
    "pycharm": {
     "name": "#%%\n"
    }
   }
  },
  {
   "cell_type": "code",
   "execution_count": 27,
   "outputs": [
    {
     "data": {
      "text/plain": "<Range [test.xlsx]Aufgabe 1!$J$15:$J$27>"
     },
     "execution_count": 27,
     "metadata": {},
     "output_type": "execute_result"
    }
   ],
   "source": [
    "a.refers_to_range"
   ],
   "metadata": {
    "collapsed": false,
    "pycharm": {
     "name": "#%%\n"
    }
   }
  },
  {
   "cell_type": "code",
   "execution_count": 28,
   "outputs": [
    {
     "name": "stdout",
     "output_type": "stream",
     "text": [
      "cooling_demand <Range [test.xlsx]Aufgabe 1!$J$15:$J$27> [430320.0, 59850.0, 82400.0, 10700.0, 12900.0, 98019.99999999999, 35838.0, 8300.0, 123000.0, 94800.0, 17600.0, 88600.0, 0.0]\n",
      "cooling_demand_specific <Range [test.xlsx]Aufgabe 1!$G$15:$G$27> [6.6, 13.3, 20.6, 10.7, 12.9, 16.9, 9.9, 8.3, 20.5, 15.8, 17.6, 88.6, None]\n",
      "cooling_full_load_hours <Range [test.xlsx]Aufgabe 1!$H$15:$H$27> [549.9999999999999, 490.0, 792.3076923076924, 254.76190476190476, 586.3636363636364, 469.4444444444444, 267.56756756756755, 395.2380952380953, 427.0833333333333, 329.1666666666667, 838.0952380952381, 2160.975609756097, None]\n",
      "cooling_load <Range [test.xlsx]Aufgabe 1!$I$15:$I$27> [782.4, 121.5, 104.0, 42.0, 22.0, 208.8, 133.94, 21.0, 288.0, 288.0, 21.0, 41.0, 0.0]\n",
      "cooling_power_specific <Range [test.xlsx]Aufgabe 1!$F$15:$F$27> [12.0, 27.0, 26.0, 42.0, 22.0, 36.0, 37.0, 21.0, 48.0, 48.0, 21.0, 41.0, None]\n",
      "customers <Range [test.xlsx]Aufgabe 1!$H$35> 50.0\n",
      "NGF_1.1 <Range [test.xlsx]Aufgabe 1!$E$15> 65200.0\n",
      "NGF_12 <Range [test.xlsx]Aufgabe 1!$E$27> 19344.0\n",
      "NGF_3.1 <Range [test.xlsx]Aufgabe 1!$E$16> 4500.0\n",
      "NGF_3.2 <Range [test.xlsx]Aufgabe 1!$E$17> 4000.0\n",
      "NGF_3.3 <Range [test.xlsx]Aufgabe 1!$E$18> 1000.0\n",
      "NGF_3.4 <Range [test.xlsx]Aufgabe 1!$E$19> 1000.0\n",
      "NGF_4.1 <Range [test.xlsx]Aufgabe 1!$E$20> 5800.0\n",
      "NGF_4.2 <Range [test.xlsx]Aufgabe 1!$E$21> 3620.0\n",
      "NGF_4.3 <Range [test.xlsx]Aufgabe 1!$E$22> 1000.0\n",
      "NGF_4.4 <Range [test.xlsx]Aufgabe 1!$E$23> 6000.0\n",
      "NGF_5.1 <Range [test.xlsx]Aufgabe 1!$E$25> 1000.0\n",
      "NGF_5.2 <Range [test.xlsx]Aufgabe 1!$E$26> 1000.0\n",
      "NGF_9.3 <Range [test.xlsx]Aufgabe 1!$E$24> 6000.0\n"
     ]
    }
   ],
   "source": [
    "for name in wb.names:\n",
    "    print(name.name, name.refers_to_range, name.refers_to_range.value)"
   ],
   "metadata": {
    "collapsed": false,
    "pycharm": {
     "name": "#%%\n"
    }
   }
  },
  {
   "cell_type": "markdown",
   "source": [
    "seems simpler"
   ],
   "metadata": {
    "collapsed": false,
    "pycharm": {
     "name": "#%% md\n"
    }
   }
  },
  {
   "cell_type": "code",
   "execution_count": 32,
   "outputs": [
    {
     "data": {
      "text/plain": "<Range [test.xlsx]Aufgabe 1!$J$15:$J$27>"
     },
     "execution_count": 32,
     "metadata": {},
     "output_type": "execute_result"
    }
   ],
   "source": [
    "xw.Range('cooling_demand')"
   ],
   "metadata": {
    "collapsed": false,
    "pycharm": {
     "name": "#%%\n"
    }
   }
  },
  {
   "cell_type": "markdown",
   "source": [
    "```\n",
    "xw.Range('A1')\n",
    "xw.Range('A1:C3')\n",
    "xw.Range((1,1))\n",
    "xw.Range((1,1), (3,3))\n",
    "xw.Range('NamedRange')\n",
    "xw.Range(xw.Range('A1'), xw.Range('B2'))\n",
    "```\n",
    "\n",
    "https://docs.xlwings.org/en/stable/syntax_overview.html#full-qualification\n",
    "\n",
    "Round brackets follow Excel’s behavior (i.e. 1-based indexing),\n",
    "while square brackets use Python’s 0-based indexing/slicing.\n",
    "As an example, the following expressions all reference the same range:\n",
    "```\n",
    "xw.apps[763].books[0].sheets[0].range('A1')\n",
    "xw.apps(10559).books(1).sheets(1).range('A1')\n",
    "xw.apps[763].books['Book1'].sheets['Sheet1'].range('A1')\n",
    "xw.apps(10559).books('Book1').sheets('Sheet1').range('A1')\n",
    "```\n",
    "\n",
    "the other way around works too\n",
    "\n",
    "Try to minimize the number of interactions with Excel.\n",
    "It is always more efficient to do `sht.range('A1').value = [[1,2],[3,4]]`\n",
    "than `sht.range('A1').value = [1, 2]`  and `sht.range('A2').value = [3, 4]`."
   ],
   "metadata": {
    "collapsed": false,
    "pycharm": {
     "name": "#%% md\n"
    }
   }
  },
  {
   "cell_type": "code",
   "execution_count": null,
   "outputs": [],
   "source": [],
   "metadata": {
    "collapsed": false,
    "pycharm": {
     "name": "#%%\n"
    }
   }
  }
 ],
 "metadata": {
  "kernelspec": {
   "display_name": "Python 3",
   "language": "python",
   "name": "python3"
  },
  "language_info": {
   "codemirror_mode": {
    "name": "ipython",
    "version": 2
   },
   "file_extension": ".py",
   "mimetype": "text/x-python",
   "name": "python",
   "nbconvert_exporter": "python",
   "pygments_lexer": "ipython2",
   "version": "2.7.6"
  }
 },
 "nbformat": 4,
 "nbformat_minor": 0
}
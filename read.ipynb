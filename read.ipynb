{
 "cells": [
  {
   "cell_type": "markdown",
   "source": [
    "works, so lets try the same in xlwings"
   ],
   "metadata": {
    "collapsed": false,
    "pycharm": {
     "name": "#%% md\n"
    }
   }
  },
  {
   "cell_type": "code",
   "execution_count": 15,
   "outputs": [
    {
     "data": {
      "text/plain": "[<Name 'meta_auxiliary_power_percentage_district_heating': =META!$BX$2>, <Name 'meta_auxiliary_power_percentage_gas': =META!$BX$2>, <Name 'meta_auxiliary_power_percentage_heatpump': =META!$BW$2>, ...]"
     },
     "execution_count": 15,
     "metadata": {},
     "output_type": "execute_result"
    }
   ],
   "source": [
    "import xlwings as xw\n",
    "wb = xw.Book(\"data/META.xlsx\")\n",
    "\n",
    "wb.names"
   ],
   "metadata": {
    "collapsed": false,
    "pycharm": {
     "name": "#%%\n"
    }
   }
  },
  {
   "cell_type": "code",
   "execution_count": 16,
   "outputs": [
    {
     "data": {
      "text/plain": "'meta_building_effective_area_per_Person_residential'"
     },
     "execution_count": 16,
     "metadata": {},
     "output_type": "execute_result"
    }
   ],
   "source": [
    "a = wb.names[10]\n",
    "a.name"
   ],
   "metadata": {
    "collapsed": false,
    "pycharm": {
     "name": "#%%\n"
    }
   }
  },
  {
   "cell_type": "code",
   "execution_count": 17,
   "outputs": [
    {
     "data": {
      "text/plain": "'=META!$AL$2'"
     },
     "execution_count": 17,
     "metadata": {},
     "output_type": "execute_result"
    }
   ],
   "source": [
    "a.refers_to"
   ],
   "metadata": {
    "collapsed": false,
    "pycharm": {
     "name": "#%%\n"
    }
   }
  },
  {
   "cell_type": "code",
   "execution_count": 18,
   "outputs": [
    {
     "data": {
      "text/plain": "<Range [META.xlsx]META!$AL$2>"
     },
     "execution_count": 18,
     "metadata": {},
     "output_type": "execute_result"
    }
   ],
   "source": [
    "a.refers_to_range"
   ],
   "metadata": {
    "collapsed": false,
    "pycharm": {
     "name": "#%%\n"
    }
   }
  },
  {
   "cell_type": "code",
   "execution_count": 19,
   "outputs": [
    {
     "name": "stdout",
     "output_type": "stream",
     "text": [
      "meta_auxiliary_power_percentage_district_heating <Range [META.xlsx]META!$BX$2> Hilfsstromanteil Gasheizung/Fernwärme\n",
      "meta_auxiliary_power_percentage_gas <Range [META.xlsx]META!$BX$2> Hilfsstromanteil Gasheizung/Fernwärme\n",
      "meta_auxiliary_power_percentage_heatpump <Range [META.xlsx]META!$BW$2> Hilfsstromanteil Wärmeumpen\n",
      "meta_building_area_hull_cellar <Range [META.xlsx]META!$K$2> Bauteilfläche Hülle Decke gegen Erdreich / Keller m²\n",
      "meta_building_area_hull_outerwall <Range [META.xlsx]META!$H$2> Bauteilfläche Hülle Außenwand (exkl. Fenster) (m2)\n",
      "meta_building_area_hull_roof <Range [META.xlsx]META!$J$2> Bauteilfläche Hülle Dach m²\n",
      "meta_building_area_hull_windows <Range [META.xlsx]META!$I$2> Bauteilfläche Hülle Fenster (m2)\n",
      "meta_building_ceiling_height_avg <Range [META.xlsx]META!$AF$2> Durchschnittliche Raumhöhe für die Berechnung des Lüfungsvolumen (m)\n",
      "meta_building_effective_area_per_Person_education <Range [META.xlsx]META!$AN$2> m²NF/Person aus UAP Studie Ausbildung\n",
      "meta_building_effective_area_per_Person_office <Range [META.xlsx]META!$AM$2> m²NF/Person aus UAP Studie Büro\n",
      "meta_building_effective_area_per_Person_residential <Range [META.xlsx]META!$AL$2> m²NF/Person aus UAP Studie Wohnen\n",
      "meta_building_effective_area_per_Person_retail <Range [META.xlsx]META!$AO$2> m²NF/Person aus UAP Studie Handel\n",
      "meta_building_energy_transmittance_windows <Range [META.xlsx]META!$Q$2> g-Wert Fenster (W/m2K)\n",
      "meta_building_floor_area <Range [META.xlsx]META!$F$2> Summe NGF (m2)\n",
      "meta_building_gains_opaque_building_parts <Range [META.xlsx]META!$AG$2> Gewinne durch opake Bauteile \n",
      "meta_building_global_warming_potential_building <Range [META.xlsx]META!$X$2> Allgemein Baulich GWP 100S (kg CO2equiv/m²a)\n",
      "meta_building_global_warming_potential_building_technology <Range [META.xlsx]META!$AC$2> Allgemein Haustechnik GWP 100S (kg CO2equiv/m²a)\n",
      "meta_building_global_warming_potential_cellar <Range [META.xlsx]META!$V$2> Decke gegen Erdreich / Keller GWP 100S (kg CO2equiv/m²a)\n",
      "meta_building_global_warming_potential_heat_pump <Range [META.xlsx]META!$Z$2> Erdwärmesonden GWP 100S (kg CO2equiv/m²a)\n",
      "meta_building_global_warming_potential_outerwall <Range [META.xlsx]META!$S$2> Außenwand (exkl. Fenster) GWP 100S (kg CO2equiv/m²a)\n",
      "meta_building_global_warming_potential_pv_plant <Range [META.xlsx]META!$Y$2> PV-Anlage GWP 100S (kg CO2equiv/m²a)\n",
      "meta_building_global_warming_potential_roof <Range [META.xlsx]META!$U$2> Dach GWP 100S (kg CO2equiv/m²a)\n",
      "meta_building_global_warming_potential_ST <Range [META.xlsx]META!$AB$2> Solarthermie GWP 100S (kg CO2equiv/m²a)\n",
      "meta_building_global_warming_potential_storey_ceiling <Range [META.xlsx]META!$W$2> Zwischengeschoßdecken GWP 100S (kg CO2equiv/m²a)\n",
      "meta_building_global_warming_potential_ventilation <Range [META.xlsx]META!$AA$2> Komfortlüftung GWP 100S (kg CO2equiv/m²a)\n",
      "meta_building_global_warming_potential_window <Range [META.xlsx]META!$T$2> Fenster GWP 100S (kg CO2equiv/m²a)\n",
      "meta_building_parking_lots <Range [META.xlsx]META!$AK$2> Stellplatzverornung m2/Stellplatz\n",
      "meta_building_retail_share_food <Range [META.xlsx]META!$G$2> Anteil NonFood an Handel\n",
      "meta_building_thermal_bridge_factor <Range [META.xlsx]META!$AD$2> Wärmebrückenzuschlag\n",
      "meta_building_thermal_capacity_thermal_mass <Range [META.xlsx]META!$R$2> Speicherkapazität spezifisch Wirksame Wärmekapazität (massiv 204, Misch 135, Leicht 60 laut PHPP) (Wh/m2K)\n",
      "meta_building_thermal_transmittance_cellar <Range [META.xlsx]META!$P$2> U-Wert Decke gegen Erdreich / Keller (W/m2K)\n",
      "meta_building_thermal_transmittance_mean <Range [META.xlsx]META!$AE$2> mittlerer U-Wert (W/m2K)\n",
      "meta_building_thermal_transmittance_outer_wall <Range [META.xlsx]META!$M$2> U-Wert Außenwand (exkl. Fenster) (W/m2K)\n",
      "meta_building_thermal_transmittance_roof <Range [META.xlsx]META!$O$2> U-Wert Dach (W/m2K)\n",
      "meta_building_thermal_transmittance_window <Range [META.xlsx]META!$N$2> U-Wert Fenster (W/m2K)\n",
      "meta_cooling_cop_avg <Range [META.xlsx]META!$BJ$2> Flächengewichtete Jahresarbeitszahl\n",
      "meta_cooling_cop_education <Range [META.xlsx]META!$BI$2> Jahresarbeitszahl Wärmepumpe Bildung\n",
      "meta_cooling_cop_office <Range [META.xlsx]META!$BG$2> Jahresarbeitszahl Wärmepumpe Büro & Gewerbe\n",
      "meta_cooling_cop_residential <Range [META.xlsx]META!$BF$2> Jahresarbeitszahl Wärmepumpe Wohnen\n",
      "meta_cooling_cop_retail <Range [META.xlsx]META!$BH$2> Jahresarbeitszahl Wärmepumpe Handel\n",
      "meta_cooling_distribution_efficiency <Range [META.xlsx]META!$BC$2> Wirkungsgrad Kühl (Verteilverluste)\n",
      "meta_cooling_heat_pump_power <Range [META.xlsx]META!$BD$2> Leistung Wärmepumpe (W/m2)\n",
      "meta_cooling_setpoint_max <Range [META.xlsx]META!$BB$2> Raumemperatur Maximum (°C)\n",
      "meta_cooling_setpoint_min <Range [META.xlsx]META!$BA$2> Raumtemperatur maximal runterkühlen bis (°C)\n",
      "meta_dhw_cop_avg <Range [META.xlsx]META!$BV$2> Flächengewichtete Jahresarbeitszahl\n",
      "meta_dhw_cop_education <Range [META.xlsx]META!$BU$2> Jahresarbeitszahl Wärmepumpe Bildung\n",
      "meta_dhw_cop_office <Range [META.xlsx]META!$BS$2> Jahresarbeitszahl Wärmepumpe Büro & Gewerbe\n",
      "meta_dhw_cop_residential <Range [META.xlsx]META!$BR$2> Jahresarbeitszahl Wärmepumpe Wohnen\n",
      "meta_dhw_cop_retail <Range [META.xlsx]META!$BT$2> Jahresarbeitszahl Wärmepumpe Handel\n",
      "meta_dhw_distribution_efficiency <Range [META.xlsx]META!$BM$2> Wirkungsgrad (Verteilverluste)\n",
      "meta_dhw_heat_pump_power <Range [META.xlsx]META!$BP$2> Leistung Wärmepumpe (W/m2)\n",
      "meta_dhw_reheating_efficiency <Range [META.xlsx]META!$BQ$2> Wirkungsgrad Aufheizen\n",
      "meta_dhw_setpoint_max <Range [META.xlsx]META!$BL$2> Temperatur Maximum (°C)\n",
      "meta_dhw_setpoint_min <Range [META.xlsx]META!$BK$2> Temperatur Minimum (°C)\n",
      "meta_dhw_storage_loss <Range [META.xlsx]META!$BN$2> Speicher Verluste (W/K)\n",
      "meta_dhw_storage_size <Range [META.xlsx]META!$BO$2> Wasserspeicher (l)\n",
      "meta_electric_battery_capacity <Range [META.xlsx]META!$CY$2> Kapazität (kWh)\n",
      "meta_electric_battery_charging_efficiency <Range [META.xlsx]META!$DC$2> Wirkungsgrad Ladung\n",
      "meta_electric_battery_charging_power_max <Range [META.xlsx]META!$DA$2> Maximale Ladeleistung (50kW) (W/m2)\n",
      "meta_electric_battery_deloading_efficiency <Range [META.xlsx]META!$DD$2> Wirkungsgrad Entladung\n",
      "meta_electric_battery_loss_per_week <Range [META.xlsx]META!$CZ$2> Verluste Batterie (2%/Woche)\n",
      "meta_electric_battery_number <Range [META.xlsx]META!$CX$2> Anzahl\n",
      "meta_electric_battery_storage_avg <Range [META.xlsx]META!$DB$2> Speicher Spezifisch (Wh/m2)\n",
      "meta_electric_dhw_heater_efficiency <Range [META.xlsx]META!$CF$2> Wirkungsgrad\n",
      "meta_electric_dhw_heater_installed_load <Range [META.xlsx]META!$CG$2> Anschlussleistung (Wh)\n",
      "meta_electric_dhw_heater_setpoint_max <Range [META.xlsx]META!$CE$2> Temperatur Maximum (°C)\n",
      "meta_emobility_charging_efficiency <Range [META.xlsx]META!$CQ$2> Wirkungsgrad Ladung\n",
      "meta_emobility_charging_power_max <Range [META.xlsx]META!$CO$2> Maximale Ladeleistung (ein 11kW Ladeanschluss je Fahrzeug) (W/m2)\n",
      "meta_emobility_electricity_consumption_per_km <Range [META.xlsx]META!$CS$2> Energieverbrauch (kWh/km)\n",
      "meta_emobility_electricity_consumption_per_year <Range [META.xlsx]META!$CK$2> Jahresverbrauch Emob (Wh)\n",
      "meta_emobility_percentage_ecars <Range [META.xlsx]META!$CR$2> Anteil Elektroautos\n",
      "meta_emobility_storage_avg <Range [META.xlsx]META!$CL$2> Speicher Spezifisch (Wh/m2)\n",
      "meta_emobility_variation_mobility_profile_education <Range [META.xlsx]META!$CV$2> Variation km-Leistung Ausbildung\n",
      "meta_emobility_variation_mobility_profile_office <Range [META.xlsx]META!$CU$2> Variation km-Leistung Büro\n",
      "meta_emobility_variation_mobility_profile_residential <Range [META.xlsx]META!$CT$2> Variation km-Leistung Wohnen\n",
      "meta_emobility_variation_mobility_profile_retail <Range [META.xlsx]META!$CW$2> Variation km-Leistung Handel\n",
      "meta_emobility_vehicle_battery_capacity <Range [META.xlsx]META!$CI$2> Batteriekapazität je Fahrzeug (Wh)\n",
      "meta_emobility_vehicle_battery_loss_per_week <Range [META.xlsx]META!$CJ$2> Verluste Batterie (2%/Woche)\n",
      "meta_emobility_vehicles_charging_const <Range [META.xlsx]META!$CN$2> Konstantes Laden von Fahrzeugen die nicht der Ladekurve folgen (W/m2)\n",
      "meta_emobility_vehicles_charging_level_min <Range [META.xlsx]META!$CP$2> Minimaler Ladezustand der erreicht werden soll\n",
      "meta_emobility_vehicles_following_loading_curve <Range [META.xlsx]META!$CM$2> Anteil der Fahrzeuge die der Ladekurve (Spitzenladungszeiten) folgen\n",
      "meta_emobility_vehicles_number <Range [META.xlsx]META!$CH$2> Anzahl Fahrzeuge\n",
      "meta_heating_cop_avg <Range [META.xlsx]META!$AX$2> Flächengewichtete Jahresarbeitszahl\n",
      "meta_heating_cop_education <Range [META.xlsx]META!$AW$2> Jahresarbeitszahl Wärmepumpe Bildung\n",
      "meta_heating_cop_office <Range [META.xlsx]META!$AU$2> Jahresarbeitszahl Wärmepumpe Büro & Gewerbe\n",
      "meta_heating_cop_residential <Range [META.xlsx]META!$AT$2> Jahresarbeitszahl Wärmepumpe Wohnen\n",
      "meta_heating_cop_retail <Range [META.xlsx]META!$AV$2> Jahresarbeitszahl Wärmepumpe Handel\n",
      "meta_heating_distribution_efficiency <Range [META.xlsx]META!$AR$2> Wirkungsgrad Heiz (Verteilverluste)\n",
      "meta_heating_efficiency_district_heating <Range [META.xlsx]META!$AY$2> Wirkungsgrad Fernwärme\n",
      "meta_heating_efficiency_natural_gas <Range [META.xlsx]META!$AZ$2> Wirkungsgrad Erdgas\n",
      "meta_heating_heat_pump_power <Range [META.xlsx]META!$AS$2> Leistung Wärmepumpe (W/m2)\n",
      "meta_heating_setpoint_max <Range [META.xlsx]META!$AQ$2> Raumemperatur Maximum (°C)\n",
      "meta_heating_setpoint_min <Range [META.xlsx]META!$AP$2> Raumtemperatur Minimum (°C)\n",
      "meta_initialization_battery_charging_level <Range [META.xlsx]META!$ES$2> e-Speicher (Wh/m²EBF)\n",
      "meta_initialization_building_temperature <Range [META.xlsx]META!$EP$2> Gebäudespeicher (Raumlufttemperatur °C)\n",
      "meta_initialization_building_temperature_after_heatcool <Range [META.xlsx]META!$ET$2> Temperatur nach heizen und kühlen konventionell\n",
      "meta_initialization_dhw_temperature <Range [META.xlsx]META!$EQ$2> WW Akut (Speichertemperatur °C)\n",
      "meta_initialization_dhw_temperature_after_heating <Range [META.xlsx]META!$EU$2> Temperatur WW nach heizen\n",
      "meta_initialization_emobility_charging_level <Range [META.xlsx]META!$ER$2> ecars Ladestand (Wh/m²EBF)\n",
      "meta_initialization_emobility_charging_level_after_charging <Range [META.xlsx]META!$EV$2> Ladezustand ecars nach Laden\n",
      "meta_physics_heat_capacity_air <Range [META.xlsx]META!$DS$2> spezifische Wärmekapazität Luft Wh/m3K\n",
      "meta_physics_heat_capacity_water_kJ <Range [META.xlsx]META!$DU$2> spezifische Wärmekapazität Wasser (kJ/kgK)\n",
      "meta_physics_heat_capacity_water_Wh <Range [META.xlsx]META!$DT$2> spezifische Wärmekapazität Wasser (Wh/kgK)\n",
      "meta_selection_battery <Range [META.xlsx]META!$EM$2> EBatterie\n",
      "meta_selection_building_hull <Range [META.xlsx]META!$DW$2> Variante\n",
      "meta_selection_cooling <Range [META.xlsx]META!$EK$2> Kühlung\n",
      "meta_selection_cooling_basic_szenario <Range [META.xlsx]META!$EF$2> Kühlen in Var. FW, Erdgas ein?\n",
      "meta_selection_ecars <Range [META.xlsx]META!$EN$2> ECars\n",
      "meta_selection_loading_curve <Range [META.xlsx]META!$EA$2> Anteil der Fahrzeuge die der Ladekurve (Spitzenladungszeiten) folgen\n",
      "meta_selection_mobility_region <Range [META.xlsx]META!$DZ$2> Regionstyp Mobilität\n",
      "meta_selection_pv <Range [META.xlsx]META!$EJ$2> PV\n",
      "meta_selection_pv_system <Range [META.xlsx]META!$DX$2> Photovoltaikvarianten\n",
      "meta_selection_variation_mobility_profile_education <Range [META.xlsx]META!$ED$2> Variation km-Leistung Ausbildung\n",
      "meta_selection_variation_mobility_profile_office <Range [META.xlsx]META!$EC$2> Variation km-Leistung Büro\n",
      "meta_selection_variation_mobility_profile_residential <Range [META.xlsx]META!$EB$2> Variation km-Leistung Wohnen\n",
      "meta_selection_variation_mobility_profile_retail <Range [META.xlsx]META!$EE$2> Variation km-Leistung Handel\n",
      "meta_selection_ventilation <Range [META.xlsx]META!$EH$2> Lüftungsanlage\n",
      "meta_selection_waste_heat <Range [META.xlsx]META!$EG$2> Freigabe Abwärme\n",
      "meta_selection_water_heater <Range [META.xlsx]META!$EL$2> Elektropatrone\n",
      "meta_selection_wind <Range [META.xlsx]META!$EI$2> Windkraft\n",
      "meta_selection_wind_profile <Range [META.xlsx]META!$DY$2> Windprofil\n",
      "meta_ventilation_cold_recovery_efficiency <Range [META.xlsx]META!$CC$2> Wirkungsgrad Kälterückgewinnung\n",
      "meta_ventilation_heat_recovery_efficiency <Range [META.xlsx]META!$CB$2> Wirkungsgrad Wärmerückgewinnung\n",
      "meta_ventilation_percentage_without_KWL <Range [META.xlsx]META!$CA$2> Anteil Lüfterstrom ohne KWL\n",
      "meta_ventilation_transition_period_efficiency <Range [META.xlsx]META!$CD$2> Wirkungsgrad Übergangszeit\n",
      "meta_wind_charging_power_max <Range [META.xlsx]META!$BZ$2> Maximale Ladeleistung (W/m2)\n",
      "meta_wind_percentage_of_nominal_power <Range [META.xlsx]META!$BY$2> Freigabe Wind (Prozent der Nennleistung)\n"
     ]
    }
   ],
   "source": [
    "#for name in wb.names:\n",
    "#    print(name.name, name.refers_to_range, name.refers_to_range.value)\n"
   ],
   "metadata": {
    "collapsed": false,
    "pycharm": {
     "name": "#%%\n"
    }
   }
  },
  {
   "cell_type": "code",
   "execution_count": 20,
   "outputs": [
    {
     "data": {
      "text/plain": "{'test': {'range': 'a1', 'value': 200}}"
     },
     "execution_count": 20,
     "metadata": {},
     "output_type": "execute_result"
    }
   ],
   "source": [
    "meta = {}\n",
    "meta[\"test\"] = {\"range\":\"a1\", \"value\":200}\n",
    "meta"
   ],
   "metadata": {
    "collapsed": false,
    "pycharm": {
     "name": "#%%\n"
    }
   }
  },
  {
   "cell_type": "code",
   "execution_count": 23,
   "outputs": [
    {
     "data": {
      "text/plain": "{'range': 'a1', 'value': 200}"
     },
     "execution_count": 23,
     "metadata": {},
     "output_type": "execute_result"
    }
   ],
   "source": [
    "for name in wb.names:\n",
    "    meta[name.name]={\"range\":name.refers_to_range, \"value\": name.refers_to_range.value}"
   ],
   "metadata": {
    "collapsed": false,
    "pycharm": {
     "name": "#%%\n"
    }
   }
  },
  {
   "cell_type": "code",
   "execution_count": 26,
   "outputs": [
    {
     "data": {
      "text/plain": "200"
     },
     "execution_count": 26,
     "metadata": {},
     "output_type": "execute_result"
    }
   ],
   "source": [
    "meta[\"test\"][\"value\"]"
   ],
   "metadata": {
    "collapsed": false,
    "pycharm": {
     "name": "#%%\n"
    }
   }
  },
  {
   "cell_type": "markdown",
   "source": [
    "seems simpler"
   ],
   "metadata": {
    "collapsed": false,
    "pycharm": {
     "name": "#%% md\n"
    }
   }
  },
  {
   "cell_type": "code",
   "execution_count": 22,
   "outputs": [
    {
     "ename": "com_error",
     "evalue": "(-2147352567, 'Ausnahmefehler aufgetreten.', (0, None, None, None, 0, -2146827284), None)",
     "output_type": "error",
     "traceback": [
      "\u001B[1;31m---------------------------------------------------------------------------\u001B[0m",
      "\u001B[1;31mcom_error\u001B[0m                                 Traceback (most recent call last)",
      "\u001B[1;32m<ipython-input-22-3e53ee721bb0>\u001B[0m in \u001B[0;36m<module>\u001B[1;34m\u001B[0m\n\u001B[1;32m----> 1\u001B[1;33m \u001B[0mxw\u001B[0m\u001B[1;33m.\u001B[0m\u001B[0mRange\u001B[0m\u001B[1;33m(\u001B[0m\u001B[1;34m'cooling_demand'\u001B[0m\u001B[1;33m)\u001B[0m\u001B[1;33m\u001B[0m\u001B[1;33m\u001B[0m\u001B[0m\n\u001B[0m\u001B[0;32m      2\u001B[0m \u001B[1;33m\u001B[0m\u001B[0m\n\u001B[0;32m      3\u001B[0m \u001B[1;33m\u001B[0m\u001B[0m\n",
      "\u001B[1;32m~\\anaconda\\envs\\FLUCCO+\\lib\\site-packages\\xlwings\\main.py\u001B[0m in \u001B[0;36m__init__\u001B[1;34m(self, cell1, cell2, **options)\u001B[0m\n\u001B[0;32m   1000\u001B[0m                 \u001B[0mimpl\u001B[0m \u001B[1;33m=\u001B[0m \u001B[0mcell1\u001B[0m\u001B[1;33m.\u001B[0m\u001B[0msheet\u001B[0m\u001B[1;33m.\u001B[0m\u001B[0mrange\u001B[0m\u001B[1;33m(\u001B[0m\u001B[0mcell1\u001B[0m\u001B[1;33m,\u001B[0m \u001B[0mcell2\u001B[0m\u001B[1;33m)\u001B[0m\u001B[1;33m.\u001B[0m\u001B[0mimpl\u001B[0m\u001B[1;33m\u001B[0m\u001B[1;33m\u001B[0m\u001B[0m\n\u001B[0;32m   1001\u001B[0m             \u001B[1;32melif\u001B[0m \u001B[0mcell2\u001B[0m \u001B[1;32mis\u001B[0m \u001B[1;32mNone\u001B[0m \u001B[1;32mand\u001B[0m \u001B[0misinstance\u001B[0m\u001B[1;33m(\u001B[0m\u001B[0mcell1\u001B[0m\u001B[1;33m,\u001B[0m \u001B[0mstr\u001B[0m\u001B[1;33m)\u001B[0m\u001B[1;33m:\u001B[0m\u001B[1;33m\u001B[0m\u001B[1;33m\u001B[0m\u001B[0m\n\u001B[1;32m-> 1002\u001B[1;33m                 \u001B[0mimpl\u001B[0m \u001B[1;33m=\u001B[0m \u001B[0mapps\u001B[0m\u001B[1;33m.\u001B[0m\u001B[0mactive\u001B[0m\u001B[1;33m.\u001B[0m\u001B[0mrange\u001B[0m\u001B[1;33m(\u001B[0m\u001B[0mcell1\u001B[0m\u001B[1;33m)\u001B[0m\u001B[1;33m.\u001B[0m\u001B[0mimpl\u001B[0m\u001B[1;33m\u001B[0m\u001B[1;33m\u001B[0m\u001B[0m\n\u001B[0m\u001B[0;32m   1003\u001B[0m             \u001B[1;32melif\u001B[0m \u001B[0mcell2\u001B[0m \u001B[1;32mis\u001B[0m \u001B[1;32mNone\u001B[0m \u001B[1;32mand\u001B[0m \u001B[0misinstance\u001B[0m\u001B[1;33m(\u001B[0m\u001B[0mcell1\u001B[0m\u001B[1;33m,\u001B[0m \u001B[0mtuple\u001B[0m\u001B[1;33m)\u001B[0m\u001B[1;33m:\u001B[0m\u001B[1;33m\u001B[0m\u001B[1;33m\u001B[0m\u001B[0m\n\u001B[0;32m   1004\u001B[0m                 \u001B[0mimpl\u001B[0m \u001B[1;33m=\u001B[0m \u001B[0msheets\u001B[0m\u001B[1;33m.\u001B[0m\u001B[0mactive\u001B[0m\u001B[1;33m.\u001B[0m\u001B[0mrange\u001B[0m\u001B[1;33m(\u001B[0m\u001B[0mcell1\u001B[0m\u001B[1;33m,\u001B[0m \u001B[0mcell2\u001B[0m\u001B[1;33m)\u001B[0m\u001B[1;33m.\u001B[0m\u001B[0mimpl\u001B[0m\u001B[1;33m\u001B[0m\u001B[1;33m\u001B[0m\u001B[0m\n",
      "\u001B[1;32m~\\anaconda\\envs\\FLUCCO+\\lib\\site-packages\\xlwings\\main.py\u001B[0m in \u001B[0;36mrange\u001B[1;34m(self, cell1, cell2)\u001B[0m\n\u001B[0;32m    392\u001B[0m         \u001B[1;33m.\u001B[0m\u001B[1;33m.\u001B[0m \u001B[0mversionadded\u001B[0m\u001B[1;33m:\u001B[0m\u001B[1;33m:\u001B[0m \u001B[1;36m0.9\u001B[0m\u001B[1;36m.0\u001B[0m\u001B[1;33m\u001B[0m\u001B[1;33m\u001B[0m\u001B[0m\n\u001B[0;32m    393\u001B[0m         \"\"\"\n\u001B[1;32m--> 394\u001B[1;33m         \u001B[1;32mreturn\u001B[0m \u001B[0mRange\u001B[0m\u001B[1;33m(\u001B[0m\u001B[0mimpl\u001B[0m\u001B[1;33m=\u001B[0m\u001B[0mself\u001B[0m\u001B[1;33m.\u001B[0m\u001B[0mimpl\u001B[0m\u001B[1;33m.\u001B[0m\u001B[0mrange\u001B[0m\u001B[1;33m(\u001B[0m\u001B[0mcell1\u001B[0m\u001B[1;33m,\u001B[0m \u001B[0mcell2\u001B[0m\u001B[1;33m)\u001B[0m\u001B[1;33m)\u001B[0m\u001B[1;33m\u001B[0m\u001B[1;33m\u001B[0m\u001B[0m\n\u001B[0m\u001B[0;32m    395\u001B[0m \u001B[1;33m\u001B[0m\u001B[0m\n\u001B[0;32m    396\u001B[0m     \u001B[1;32mdef\u001B[0m \u001B[0mmacro\u001B[0m\u001B[1;33m(\u001B[0m\u001B[0mself\u001B[0m\u001B[1;33m,\u001B[0m \u001B[0mname\u001B[0m\u001B[1;33m)\u001B[0m\u001B[1;33m:\u001B[0m\u001B[1;33m\u001B[0m\u001B[1;33m\u001B[0m\u001B[0m\n",
      "\u001B[1;32m~\\anaconda\\envs\\FLUCCO+\\lib\\site-packages\\xlwings\\_xlwindows.py\u001B[0m in \u001B[0;36mrange\u001B[1;34m(self, arg1, arg2)\u001B[0m\n\u001B[0;32m    406\u001B[0m             \u001B[0mxl1\u001B[0m \u001B[1;33m=\u001B[0m \u001B[0marg1\u001B[0m\u001B[1;33m.\u001B[0m\u001B[0mxl\u001B[0m\u001B[1;33m\u001B[0m\u001B[1;33m\u001B[0m\u001B[0m\n\u001B[0;32m    407\u001B[0m         \u001B[1;32melse\u001B[0m\u001B[1;33m:\u001B[0m\u001B[1;33m\u001B[0m\u001B[1;33m\u001B[0m\u001B[0m\n\u001B[1;32m--> 408\u001B[1;33m             \u001B[0mxl1\u001B[0m \u001B[1;33m=\u001B[0m \u001B[0mself\u001B[0m\u001B[1;33m.\u001B[0m\u001B[0mxl\u001B[0m\u001B[1;33m.\u001B[0m\u001B[0mRange\u001B[0m\u001B[1;33m(\u001B[0m\u001B[0marg1\u001B[0m\u001B[1;33m)\u001B[0m\u001B[1;33m\u001B[0m\u001B[1;33m\u001B[0m\u001B[0m\n\u001B[0m\u001B[0;32m    409\u001B[0m \u001B[1;33m\u001B[0m\u001B[0m\n\u001B[0;32m    410\u001B[0m         \u001B[1;32mif\u001B[0m \u001B[0marg2\u001B[0m \u001B[1;32mis\u001B[0m \u001B[1;32mNone\u001B[0m\u001B[1;33m:\u001B[0m\u001B[1;33m\u001B[0m\u001B[1;33m\u001B[0m\u001B[0m\n",
      "\u001B[1;32m~\\anaconda\\envs\\FLUCCO+\\lib\\site-packages\\xlwings\\_xlwindows.py\u001B[0m in \u001B[0;36m__call__\u001B[1;34m(self, *args, **kwargs)\u001B[0m\n\u001B[0;32m     64\u001B[0m         \u001B[1;32mwhile\u001B[0m \u001B[1;32mTrue\u001B[0m\u001B[1;33m:\u001B[0m\u001B[1;33m\u001B[0m\u001B[1;33m\u001B[0m\u001B[0m\n\u001B[0;32m     65\u001B[0m             \u001B[1;32mtry\u001B[0m\u001B[1;33m:\u001B[0m\u001B[1;33m\u001B[0m\u001B[1;33m\u001B[0m\u001B[0m\n\u001B[1;32m---> 66\u001B[1;33m                 \u001B[0mv\u001B[0m \u001B[1;33m=\u001B[0m \u001B[0mself\u001B[0m\u001B[1;33m.\u001B[0m\u001B[0m__method\u001B[0m\u001B[1;33m(\u001B[0m\u001B[1;33m*\u001B[0m\u001B[0margs\u001B[0m\u001B[1;33m,\u001B[0m \u001B[1;33m**\u001B[0m\u001B[0mkwargs\u001B[0m\u001B[1;33m)\u001B[0m\u001B[1;33m\u001B[0m\u001B[1;33m\u001B[0m\u001B[0m\n\u001B[0m\u001B[0;32m     67\u001B[0m                 \u001B[0mt\u001B[0m \u001B[1;33m=\u001B[0m \u001B[0mtype\u001B[0m\u001B[1;33m(\u001B[0m\u001B[0mv\u001B[0m\u001B[1;33m)\u001B[0m\u001B[1;33m\u001B[0m\u001B[1;33m\u001B[0m\u001B[0m\n\u001B[0;32m     68\u001B[0m                 \u001B[1;32mif\u001B[0m \u001B[0mt\u001B[0m \u001B[1;32mis\u001B[0m \u001B[0mCDispatch\u001B[0m\u001B[1;33m:\u001B[0m\u001B[1;33m\u001B[0m\u001B[1;33m\u001B[0m\u001B[0m\n",
      "\u001B[1;32m~\\anaconda\\envs\\FLUCCO+\\lib\\site-packages\\win32com\\client\\dynamic.py\u001B[0m in \u001B[0;36mRange\u001B[1;34m(self, Cell1, Cell2)\u001B[0m\n",
      "\u001B[1;31mcom_error\u001B[0m: (-2147352567, 'Ausnahmefehler aufgetreten.', (0, None, None, None, 0, -2146827284), None)"
     ]
    }
   ],
   "source": [
    "xw.Range('cooling_demand')\n"
   ],
   "metadata": {
    "collapsed": false,
    "pycharm": {
     "name": "#%%\n"
    }
   }
  },
  {
   "cell_type": "markdown",
   "source": [
    "```\n",
    "xw.Range('A1')\n",
    "xw.Range('A1:C3')\n",
    "xw.Range((1,1))\n",
    "xw.Range((1,1), (3,3))\n",
    "xw.Range('NamedRange')\n",
    "xw.Range(xw.Range('A1'), xw.Range('B2'))\n",
    "```\n",
    "\n",
    "https://docs.xlwings.org/en/stable/syntax_overview.html#full-qualification\n",
    "\n",
    "Round brackets follow Excel’s behavior (i.e. 1-based indexing),\n",
    "while square brackets use Python’s 0-based indexing/slicing.\n",
    "As an example, the following expressions all reference the same range:\n",
    "```\n",
    "xw.apps[763].books[0].sheets[0].range('A1')\n",
    "xw.apps(10559).books(1).sheets(1).range('A1')\n",
    "xw.apps[763].books['Book1'].sheets['Sheet1'].range('A1')\n",
    "xw.apps(10559).books('Book1').sheets('Sheet1').range('A1')\n",
    "```\n",
    "\n",
    "the other way around works too\n",
    "\n",
    "Try to minimize the number of interactions with Excel.\n",
    "It is always more efficient to do `sht.range('A1').value = [[1,2],[3,4]]`\n",
    "than `sht.range('A1').value = [1, 2]`  and `sht.range('A2').value = [3, 4]`."
   ],
   "metadata": {
    "collapsed": false,
    "pycharm": {
     "name": "#%% md\n"
    }
   }
  },
  {
   "cell_type": "code",
   "execution_count": null,
   "outputs": [],
   "source": [],
   "metadata": {
    "collapsed": false,
    "pycharm": {
     "name": "#%%\n"
    }
   }
  }
 ],
 "metadata": {
  "kernelspec": {
   "display_name": "Python 3",
   "language": "python",
   "name": "python3"
  },
  "language_info": {
   "codemirror_mode": {
    "name": "ipython",
    "version": 2
   },
   "file_extension": ".py",
   "mimetype": "text/x-python",
   "name": "python",
   "nbconvert_exporter": "python",
   "pygments_lexer": "ipython2",
   "version": "2.7.6"
  },
  "pycharm": {
   "stem_cell": {
    "cell_type": "raw",
    "source": [
     "\n"
    ],
    "metadata": {
     "collapsed": false
    }
   }
  }
 },
 "nbformat": 4,
 "nbformat_minor": 0
}
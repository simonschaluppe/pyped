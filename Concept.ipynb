{
 "cells": [
  {
   "cell_type": "markdown",
   "metadata": {
    "collapsed": true,
    "pycharm": {
     "name": "#%% md\n"
    }
   },
   "source": [
    "# pyped  v0.0\n",
    "## Concept\n",
    "\n",
    "pyped stands for **python positive energy district** and is designed for the\n",
    "following tasks:\n",
    "1. Wrapping (quasi-)dynamic peb simulation methods\n",
    "    * PE-Excel\n",
    "        * Map xls variables to python datastructs\n",
    "    * Casaclima excel?\n",
    "    * Classes?\n",
    "* Perform time series calculation\n",
    "* flexible /optional sub-energy models. Sub-model agnostic?\n",
    "* comprehensive model representation\n",
    "    (eco, lca, comfort)\n",
    "3. (Visual representation)\n",
    "    * Plots\n",
    "4. User interfaces\n",
    "    * simtower\n",
    "        * Modelling / Learning tool\n",
    "\n",
    "Möglicherweise eigene Projekte, vielleicht hier als feature dabei:\n",
    "* Meta-Wrapper? bzw API\n",
    "    * city gml > all data (energy ADE)\n",
    "    * cityJSON > same but less and less maintained. more lightweight and native\n",
    "    * BIM / IFC > gibts sicher schon einiges, um die Therm. Hülle und HLKS zu bekommen\n",
    "    * Open IFC vomBednar? Integral? wieh hat das geheißen?\n",
    "\n",
    "* Git-style version control system for Variant Exploration and documentation\n",
    "\n",
    "Ziele Was ist das Ziel von pyped\n",
    "Zu 1. Mai"
   ]
  }
 ],
 "metadata": {
  "kernelspec": {
   "display_name": "Python 3",
   "language": "python",
   "name": "python3"
  },
  "language_info": {
   "codemirror_mode": {
    "name": "ipython",
    "version": 2
   },
   "file_extension": ".py",
   "mimetype": "text/x-python",
   "name": "python",
   "nbconvert_exporter": "python",
   "pygments_lexer": "ipython2",
   "version": "2.7.6"
  }
 },
 "nbformat": 4,
 "nbformat_minor": 0
}
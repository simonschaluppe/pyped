{
 "cells": [
  {
   "cell_type": "code",
   "execution_count": 18,
   "metadata": {
    "collapsed": true,
    "pycharm": {
     "name": "#%%\n"
    }
   },
   "outputs": [],
   "source": [
    "from collections import defaultdict\n",
    "import xlwings as xw\n"
   ]
  },
  {
   "cell_type": "code",
   "execution_count": 19,
   "outputs": [],
   "source": [
    "EXCEL_PATH = \"data/PlusenergieExcel_Performance.xlsb\"\n",
    "wb = xw.Book(EXCEL_PATH)\n"
   ],
   "metadata": {
    "collapsed": false,
    "pycharm": {
     "name": "#%%\n"
    }
   }
  },
  {
   "cell_type": "code",
   "execution_count": 20,
   "outputs": [
    {
     "name": "stdout",
     "output_type": "stream",
     "text": [
      "<Range [PlusenergieExcel_Performance.xlsb]SIM!$B$2:$FU$2>\n"
     ]
    }
   ],
   "source": [
    "SI_names_range = wb.names[\"sim_input_names\"].refers_to_range\n",
    "print(SI_names_range)"
   ],
   "metadata": {
    "collapsed": false,
    "pycharm": {
     "name": "#%%\n"
    }
   }
  },
  {
   "cell_type": "code",
   "execution_count": 21,
   "outputs": [
    {
     "name": "stdout",
     "output_type": "stream",
     "text": [
      "Wohnbau NGF (m²)\n",
      "Büro NGF (m²)\n",
      "Schule NGF (m²)\n",
      "Kiga NGF (m²)\n",
      "Handel NGF (m²)\n",
      "Summe NGF (m²)\n",
      "Anteil NonFood an Handel\n",
      "Bauteilfläche Hülle Außenwand (exkl. Fenster) (m²)\n",
      "Bauteilfläche Hülle Fenster (m²)\n",
      "Bauteilfläche Hülle Dach (m²)\n"
     ]
    }
   ],
   "source": [
    "for cell in SI_names_range[:10]:\n",
    "    print(cell.value)"
   ],
   "metadata": {
    "collapsed": false,
    "pycharm": {
     "name": "#%%\n"
    }
   }
  },
  {
   "cell_type": "code",
   "execution_count": 22,
   "outputs": [],
   "source": [
    "SI_values_range = wb.names[\"sim_input_direkt\"].refers_to_range"
   ],
   "metadata": {
    "collapsed": false,
    "pycharm": {
     "name": "#%%\n"
    }
   }
  },
  {
   "cell_type": "code",
   "execution_count": 25,
   "outputs": [],
   "source": [
    "d = defaultdict()\n",
    "for name, value in zip(SI_names_range, SI_values_range):\n",
    "    d[name.value] = value.value"
   ],
   "metadata": {
    "collapsed": false,
    "pycharm": {
     "name": "#%%\n"
    }
   }
  },
  {
   "cell_type": "code",
   "execution_count": 26,
   "outputs": [
    {
     "data": {
      "text/plain": "defaultdict(None,\n            {'Wohnbau NGF (m²)': 10061.6,\n             'Büro NGF (m²)': 0.0,\n             'Schule NGF (m²)': 0.0,\n             'Kiga NGF (m²)': 0.0,\n             'Handel NGF (m²)': 733.6,\n             'Summe NGF (m²)': 10795.2,\n             'Anteil NonFood an Handel': 0.5,\n             'Bauteilfläche Hülle Außenwand (exkl. Fenster) (m²)': 9393.6,\n             'Bauteilfläche Hülle Fenster (m²)': 6262.400000000001,\n             'Bauteilfläche Hülle Dach (m²)': 2660.0,\n             'Bauteilfläche Hülle Decke gegen Erdreich / Keller (m²)': 2660.0,\n             'Gewählte Variante': 'ZQ1 PH',\n             'U-Wert Außenwand (exkl. Fenster) (W/m²K)': 0.12,\n             'U-Wert Fenster (W/m²K)': 0.83,\n             'U-Wert Dach (W/m²K)': 0.1,\n             'U-Wert Decke gegen Erdreich / Keller (W/m²K)': 0.15,\n             'g-Wert Fenster (W/m²K)': 0.53,\n             'Speicherkapazität spezifisch Wirksame Wärmekapazität (massiv 204, Misch 135, Leicht 60 laut PHPP) (Wh/m²K)': 204.0,\n             'Außenwand (exkl. Fenster) GWP 100S (kg CO2equiv/m²a)': 0.0,\n             'Fenster GWP 100S (kg CO2equiv/m²a)': 0.0,\n             'Dach GWP 100S (kg CO2equiv/m²a)': 0.0,\n             'Decke gegen Erdreich / Keller GWP 100S (kg CO2equiv/m²a)': 0.0,\n             'Zwischen-geschoßdecken GWP 100S (kg CO2equiv/m²a)': 0.0,\n             'Allgemein baulich GWP 100S (kg CO2equiv/m²a)': 0.0,\n             'PV-Anlage GWP 100S (kg CO2equiv/m²a)': 0.0,\n             'Erdwärme-sonden GWP 100S (kg CO2equiv/m²a)': 0.0,\n             'Komfort-lüftung GWP 100S (kg CO2equiv/m²a)': 0.0,\n             'Solarthermie GWP 100S (kg CO2equiv/m²a)': 0.0,\n             'Allgemein Haustechnik GWP 100S (kg CO2equiv/m²a)': 0.0,\n             'Wärme-brücken-zuschlag': 0.1,\n             'Transmission gesamt (W/K/m²NGF)': 0.71226345042241,\n             'Durchschn. Raumhöhe für die Berechnung des Lüfungs-volumen (m)': 2.5,\n             'Gewinne durch opake Bauteile ': 1.0656015703573898,\n             'Mobiler Sommerlicher Sonnenschutz': 0.9605938768179283,\n             'Referenz g-Wert': 0.5,\n             'Faktor Solare Gewinne Kühlsaison': 1.0850269642296502,\n             'Stellplatz-verornung m²/Stellplatz': 100.0,\n             'm²NF/Person aus UAP Studie Wohnen': 36.2,\n             'm²NF/Person aus UAP Studie Büro': 5.8,\n             'm²NF/Person aus UAP Studie Ausbildung': 2.6,\n             'm²NF/Person aus UAP Studie Handel': 20.0,\n             'Raumtemp.Minimum (°C)': 25.0,\n             'Raumemp.Maximum (°C)': 23.0,\n             'Wirkungsgrad Verteilungsverluste': 0.95,\n             'Leistung Wärme pumpe (W/m²)': 7.0,\n             'JAZ Wärme pumpe Wohnen': 3.0,\n             'JAZ Wärme pumpe Büro & Gewerbe': 3.0,\n             'JAZ Wärme pumpe Handel': 5.0,\n             'JAZ Wärme pumpe Bildung': 5.0,\n             'Flächengewichtete JAZ': None,\n             'Wirkungs-grad Fern-wärme': 0.95,\n             'Wirkungs-grad Erdgas': 0.95,\n             'Leistung Wärmepumpe (Wtherm/m²)': 50.0,\n             'SEER Kühlung': 5.0,\n             'Temperatur Minimum (°C)': 60.0,\n             'Temperatur Maximum (°C)': 90.0,\n             'Wirkungs grad (Verteilungsverluste)': 0.75,\n             'Speicher Verluste (W/h)': 100.0,\n             'Wasser speicher (l)': 10000.0,\n             'Wirkungs grad Aufheizen': 0.8,\n             'JAZ Wärmepumpe Handel': 3.0,\n             'JAZ Wärmepumpe Bildung': 3.0,\n             'Hilfsstromanteil Wärme pumpen': 0.1,\n             'Hilfsstrom anteil Gasheizung/Fernwärme (bezogen auf Heizenergie inkl verteil)': 0.1,\n             'Freigabe Wind': 0.4,\n             'Maximale Ladeleistung (W/m²)': 0.0,\n             'Lüftungsanteil ohne Wärmerückgewinnung': 0.0,\n             'Wirkungsgrad Wärmerückgewinnung': 0.85,\n             'Wirkungsgrad Kälterückgewinnung': 0.0,\n             'Wirkungsgrad Übergangszeit': 0.37145449291503624,\n             'Wirkungsgrad': 0.9,\n             'Anschlussleistung (Wh)': 24000.0,\n             'Anzahl Fahrzeuge': 0.0,\n             'Batterie-kapazität je Fahrzeug (Wh)': 41000.0,\n             'Verluste Batterie (2%/Wo)': 0.00011904761904761905,\n             'Jahresver brauch Emob  (Wh)': 0.0,\n             'Speicher Spezifisch (Wh/m²)': 101.89713946939379,\n             'Anteil der Fahrzeuge die der Ladekurve (Spitzenladungszeiten) folgen': 5.0,\n             'Konstantes Laden von Fahrzeugen die nicht der Ladekurve folgen (W/m²)': 0.0,\n             'Maximale Ladeleistung (ein 11kW Ladeanschluss je Fahrzeug) (W/m²)': 0.0,\n             'Minimaler Ladezustand der erreicht werden soll': 0.5,\n             'Wirkungs grad Ladung': 0.9,\n             'Anteil Elektroautos': 0.5,\n             'Energieverbrauch (kWh/km)': 0.17,\n             'Variation km-Leistung Wohnen': 4.0,\n             'Variation km-Leistung Büro': 5.0,\n             'Variation km-Leistung Ausbildung': 5.0,\n             'Variation km-Leistung Handel': 10.0,\n             'Anzahl': 275.0,\n             'Kapazität pro Batterie (kWh)': 4.0,\n             'Wirkungsgrad Ladung': 0.9,\n             'Wirkungsgrad Entladung': 0.9,\n             'Regionstyp': 93.0,\n             'Zuordnung der Jahres mobilität Wohnen': 0.5,\n             'Zuordnung der Jahres mobilität Büro': 0.17,\n             'Zuordnung der Jahres mobilität Ausbildung': 0.03,\n             'Zuordnung der Jahres mobilität Handel': 0.29,\n             'Verkehrsleistung Zu Fuß (pro Person)': 235.0,\n             'Verkehrsleistung Fahrrad (pro Person)': 116.0,\n             'Verkehrsleistung Moped (pro Person)': 146.0,\n             'Verkehrsleistung PKW-LenkerIn (pro Person)': 4291.0,\n             'Verkehrs leistung PKW-MitfahrerIn (pro Person)': 2035.0,\n             'Verkehrs leistung Stadt/ Regionalbus (pro Person)': 165.0,\n             'Verkehrs leistung Straßenbahn/U-Bahn (pro Person)': 1978.0,\n             'Verkehrs leistung Eisenbahn (pro Person)': 1463.0,\n             'Verkehrs leistung Reisebus (pro Person)': 67.0,\n             'spez. Wärme kapazität Luft (Wh/m3K)': 0.34,\n             'spez. Wärme kapazität Wasser (Wh/kgK)': 1.1611111111111112,\n             'spez. Wärme kapazität Wasser (kJ/kgK)': 4.18,\n             'Switch': None,\n             'Gebäudehülle': 3.0,\n             'Photovoltaikvarianten': 3.0,\n             'Windprofil': 1.0,\n             'Regionstyp Mobilität': 2.0,\n             None: 1.0,\n             'Freigabe Abwärme': False,\n             'Lüftungsanlage': True,\n             'Windkraft': True,\n             'PV': True,\n             'Kühlung': True,\n             'Elektropatrone': False,\n             'EBatterie': False,\n             'ECars': False,\n             'Fensterfläche brutto': 0.0,\n             'g-Wert': 0.5,\n             'Abminderungsfaktor \\nsolare Einstrahlung Heizen': 0.0,\n             'Verhältnis Abminderung Kühlung/Heizung': 1.0,\n             'Betriebszeit_-': 1.0,\n             'Personen_Pers_m2': 1.0,\n             'Luftwechsel_Anlage_1_h': 1.0,\n             'Luftwechsel_Infiltration_1_h': 1.0,\n             'Warmwasserbedarf_W_m2': 1.0,\n             'Lüfterstrom_W_m2': 1.0,\n             'Aufzug, Regelung etc._W_m2': 1.0,\n             'Beleuchtung_W_m2': 1.0,\n             'Nutzerstrom_W_m2': 1.0,\n             'PV Skalierung': 0.8})"
     },
     "execution_count": 26,
     "metadata": {},
     "output_type": "execute_result"
    }
   ],
   "source": [
    "d\n"
   ],
   "metadata": {
    "collapsed": false,
    "pycharm": {
     "name": "#%%\n"
    }
   }
  }
 ],
 "metadata": {
  "kernelspec": {
   "display_name": "Python 3",
   "language": "python",
   "name": "python3"
  },
  "language_info": {
   "codemirror_mode": {
    "name": "ipython",
    "version": 2
   },
   "file_extension": ".py",
   "mimetype": "text/x-python",
   "name": "python",
   "nbconvert_exporter": "python",
   "pygments_lexer": "ipython2",
   "version": "2.7.6"
  }
 },
 "nbformat": 4,
 "nbformat_minor": 0
}
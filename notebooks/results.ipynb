{
 "cells": [
  {
   "cell_type": "markdown",
   "source": [
    "Description of whats going on"
   ],
   "metadata": {
    "collapsed": false
   }
  },
  {
   "cell_type": "code",
   "execution_count": 1,
   "outputs": [],
   "source": [
    "import numpy as np\n",
    "\n",
    "GFZ = np.linspace(0.1, 8, 80) #min, max, steps\n",
    "A = 37.\n",
    "dy = 9.2\n",
    "dx = 0.085\n",
    "EUI=38.34 # kWh EE /m2NGF = 62.5 kWh PE / m²NGF\n",
    "NGFtoBGF=0.8\n",
    "PE_strom = 1.63 #kWh PE / kWh EE\n",
    "\n",
    "def target(GFZ, A=A,dy=dy,dx=dx,EUI=EUI,fPE=PE_strom, NGFtoBGF=NGFtoBGF):\n",
    "    return (( dy + A/(dx + GFZ) - EUI )* fPE) * NGFtoBGF"
   ],
   "metadata": {
    "collapsed": false,
    "pycharm": {
     "name": "#%%\n"
    }
   }
  },
  {
   "cell_type": "code",
   "execution_count": 2,
   "outputs": [
    {
     "ename": "ImportError",
     "evalue": "Missing optional dependency 'xlrd'. Install xlrd >= 1.0.0 for Excel support Use pip or conda to install xlrd.",
     "output_type": "error",
     "traceback": [
      "\u001B[1;31m---------------------------------------------------------------------------\u001B[0m",
      "\u001B[1;31mImportError\u001B[0m                               Traceback (most recent call last)",
      "\u001B[1;32m<ipython-input-2-032bdfa6d55a>\u001B[0m in \u001B[0;36m<module>\u001B[1;34m\u001B[0m\n\u001B[0;32m      2\u001B[0m \u001B[1;32mimport\u001B[0m \u001B[0mpandas\u001B[0m \u001B[1;32mas\u001B[0m \u001B[0mpd\u001B[0m\u001B[1;33m\u001B[0m\u001B[1;33m\u001B[0m\u001B[0m\n\u001B[0;32m      3\u001B[0m \u001B[1;33m\u001B[0m\u001B[0m\n\u001B[1;32m----> 4\u001B[1;33m df_raw = pd.read_excel(\"C:/Users/Simon Schneider/Nextcloud/EE/6_Daten/Quartiere/Projekt-Varianten-Verzeichnis.xlsx\",\n\u001B[0m\u001B[0;32m      5\u001B[0m                    \u001B[0msheet_name\u001B[0m\u001B[1;33m=\u001B[0m\u001B[1;34m\"Sample points\"\u001B[0m\u001B[1;33m,\u001B[0m\u001B[1;33m\u001B[0m\u001B[1;33m\u001B[0m\u001B[0m\n\u001B[0;32m      6\u001B[0m                    header=0)\n",
      "\u001B[1;32m~\\anaconda\\envs\\pyped\\lib\\site-packages\\pandas\\util\\_decorators.py\u001B[0m in \u001B[0;36mwrapper\u001B[1;34m(*args, **kwargs)\u001B[0m\n\u001B[0;32m    297\u001B[0m                 )\n\u001B[0;32m    298\u001B[0m                 \u001B[0mwarnings\u001B[0m\u001B[1;33m.\u001B[0m\u001B[0mwarn\u001B[0m\u001B[1;33m(\u001B[0m\u001B[0mmsg\u001B[0m\u001B[1;33m,\u001B[0m \u001B[0mFutureWarning\u001B[0m\u001B[1;33m,\u001B[0m \u001B[0mstacklevel\u001B[0m\u001B[1;33m=\u001B[0m\u001B[0mstacklevel\u001B[0m\u001B[1;33m)\u001B[0m\u001B[1;33m\u001B[0m\u001B[1;33m\u001B[0m\u001B[0m\n\u001B[1;32m--> 299\u001B[1;33m             \u001B[1;32mreturn\u001B[0m \u001B[0mfunc\u001B[0m\u001B[1;33m(\u001B[0m\u001B[1;33m*\u001B[0m\u001B[0margs\u001B[0m\u001B[1;33m,\u001B[0m \u001B[1;33m**\u001B[0m\u001B[0mkwargs\u001B[0m\u001B[1;33m)\u001B[0m\u001B[1;33m\u001B[0m\u001B[1;33m\u001B[0m\u001B[0m\n\u001B[0m\u001B[0;32m    300\u001B[0m \u001B[1;33m\u001B[0m\u001B[0m\n\u001B[0;32m    301\u001B[0m         \u001B[1;32mreturn\u001B[0m \u001B[0mwrapper\u001B[0m\u001B[1;33m\u001B[0m\u001B[1;33m\u001B[0m\u001B[0m\n",
      "\u001B[1;32m~\\anaconda\\envs\\pyped\\lib\\site-packages\\pandas\\io\\excel\\_base.py\u001B[0m in \u001B[0;36mread_excel\u001B[1;34m(io, sheet_name, header, names, index_col, usecols, squeeze, dtype, engine, converters, true_values, false_values, skiprows, nrows, na_values, keep_default_na, na_filter, verbose, parse_dates, date_parser, thousands, comment, skipfooter, convert_float, mangle_dupe_cols, storage_options)\u001B[0m\n\u001B[0;32m    334\u001B[0m     \u001B[1;32mif\u001B[0m \u001B[1;32mnot\u001B[0m \u001B[0misinstance\u001B[0m\u001B[1;33m(\u001B[0m\u001B[0mio\u001B[0m\u001B[1;33m,\u001B[0m \u001B[0mExcelFile\u001B[0m\u001B[1;33m)\u001B[0m\u001B[1;33m:\u001B[0m\u001B[1;33m\u001B[0m\u001B[1;33m\u001B[0m\u001B[0m\n\u001B[0;32m    335\u001B[0m         \u001B[0mshould_close\u001B[0m \u001B[1;33m=\u001B[0m \u001B[1;32mTrue\u001B[0m\u001B[1;33m\u001B[0m\u001B[1;33m\u001B[0m\u001B[0m\n\u001B[1;32m--> 336\u001B[1;33m         \u001B[0mio\u001B[0m \u001B[1;33m=\u001B[0m \u001B[0mExcelFile\u001B[0m\u001B[1;33m(\u001B[0m\u001B[0mio\u001B[0m\u001B[1;33m,\u001B[0m \u001B[0mstorage_options\u001B[0m\u001B[1;33m=\u001B[0m\u001B[0mstorage_options\u001B[0m\u001B[1;33m,\u001B[0m \u001B[0mengine\u001B[0m\u001B[1;33m=\u001B[0m\u001B[0mengine\u001B[0m\u001B[1;33m)\u001B[0m\u001B[1;33m\u001B[0m\u001B[1;33m\u001B[0m\u001B[0m\n\u001B[0m\u001B[0;32m    337\u001B[0m     \u001B[1;32melif\u001B[0m \u001B[0mengine\u001B[0m \u001B[1;32mand\u001B[0m \u001B[0mengine\u001B[0m \u001B[1;33m!=\u001B[0m \u001B[0mio\u001B[0m\u001B[1;33m.\u001B[0m\u001B[0mengine\u001B[0m\u001B[1;33m:\u001B[0m\u001B[1;33m\u001B[0m\u001B[1;33m\u001B[0m\u001B[0m\n\u001B[0;32m    338\u001B[0m         raise ValueError(\n",
      "\u001B[1;32m~\\anaconda\\envs\\pyped\\lib\\site-packages\\pandas\\io\\excel\\_base.py\u001B[0m in \u001B[0;36m__init__\u001B[1;34m(self, path_or_buffer, engine, storage_options)\u001B[0m\n\u001B[0;32m   1107\u001B[0m         \u001B[0mself\u001B[0m\u001B[1;33m.\u001B[0m\u001B[0mstorage_options\u001B[0m \u001B[1;33m=\u001B[0m \u001B[0mstorage_options\u001B[0m\u001B[1;33m\u001B[0m\u001B[1;33m\u001B[0m\u001B[0m\n\u001B[0;32m   1108\u001B[0m \u001B[1;33m\u001B[0m\u001B[0m\n\u001B[1;32m-> 1109\u001B[1;33m         \u001B[0mself\u001B[0m\u001B[1;33m.\u001B[0m\u001B[0m_reader\u001B[0m \u001B[1;33m=\u001B[0m \u001B[0mself\u001B[0m\u001B[1;33m.\u001B[0m\u001B[0m_engines\u001B[0m\u001B[1;33m[\u001B[0m\u001B[0mengine\u001B[0m\u001B[1;33m]\u001B[0m\u001B[1;33m(\u001B[0m\u001B[0mself\u001B[0m\u001B[1;33m.\u001B[0m\u001B[0m_io\u001B[0m\u001B[1;33m,\u001B[0m \u001B[0mstorage_options\u001B[0m\u001B[1;33m=\u001B[0m\u001B[0mstorage_options\u001B[0m\u001B[1;33m)\u001B[0m\u001B[1;33m\u001B[0m\u001B[1;33m\u001B[0m\u001B[0m\n\u001B[0m\u001B[0;32m   1110\u001B[0m \u001B[1;33m\u001B[0m\u001B[0m\n\u001B[0;32m   1111\u001B[0m     \u001B[1;32mdef\u001B[0m \u001B[0m__fspath__\u001B[0m\u001B[1;33m(\u001B[0m\u001B[0mself\u001B[0m\u001B[1;33m)\u001B[0m\u001B[1;33m:\u001B[0m\u001B[1;33m\u001B[0m\u001B[1;33m\u001B[0m\u001B[0m\n",
      "\u001B[1;32m~\\anaconda\\envs\\pyped\\lib\\site-packages\\pandas\\io\\excel\\_xlrd.py\u001B[0m in \u001B[0;36m__init__\u001B[1;34m(self, filepath_or_buffer, storage_options)\u001B[0m\n\u001B[0;32m     22\u001B[0m         \"\"\"\n\u001B[0;32m     23\u001B[0m         \u001B[0merr_msg\u001B[0m \u001B[1;33m=\u001B[0m \u001B[1;34m\"Install xlrd >= 1.0.0 for Excel support\"\u001B[0m\u001B[1;33m\u001B[0m\u001B[1;33m\u001B[0m\u001B[0m\n\u001B[1;32m---> 24\u001B[1;33m         \u001B[0mimport_optional_dependency\u001B[0m\u001B[1;33m(\u001B[0m\u001B[1;34m\"xlrd\"\u001B[0m\u001B[1;33m,\u001B[0m \u001B[0mextra\u001B[0m\u001B[1;33m=\u001B[0m\u001B[0merr_msg\u001B[0m\u001B[1;33m)\u001B[0m\u001B[1;33m\u001B[0m\u001B[1;33m\u001B[0m\u001B[0m\n\u001B[0m\u001B[0;32m     25\u001B[0m         \u001B[0msuper\u001B[0m\u001B[1;33m(\u001B[0m\u001B[1;33m)\u001B[0m\u001B[1;33m.\u001B[0m\u001B[0m__init__\u001B[0m\u001B[1;33m(\u001B[0m\u001B[0mfilepath_or_buffer\u001B[0m\u001B[1;33m,\u001B[0m \u001B[0mstorage_options\u001B[0m\u001B[1;33m=\u001B[0m\u001B[0mstorage_options\u001B[0m\u001B[1;33m)\u001B[0m\u001B[1;33m\u001B[0m\u001B[1;33m\u001B[0m\u001B[0m\n\u001B[0;32m     26\u001B[0m \u001B[1;33m\u001B[0m\u001B[0m\n",
      "\u001B[1;32m~\\anaconda\\envs\\pyped\\lib\\site-packages\\pandas\\compat\\_optional.py\u001B[0m in \u001B[0;36mimport_optional_dependency\u001B[1;34m(name, extra, raise_on_missing, on_version)\u001B[0m\n\u001B[0;32m    107\u001B[0m     \u001B[1;32mexcept\u001B[0m \u001B[0mImportError\u001B[0m\u001B[1;33m:\u001B[0m\u001B[1;33m\u001B[0m\u001B[1;33m\u001B[0m\u001B[0m\n\u001B[0;32m    108\u001B[0m         \u001B[1;32mif\u001B[0m \u001B[0mraise_on_missing\u001B[0m\u001B[1;33m:\u001B[0m\u001B[1;33m\u001B[0m\u001B[1;33m\u001B[0m\u001B[0m\n\u001B[1;32m--> 109\u001B[1;33m             \u001B[1;32mraise\u001B[0m \u001B[0mImportError\u001B[0m\u001B[1;33m(\u001B[0m\u001B[0mmsg\u001B[0m\u001B[1;33m)\u001B[0m \u001B[1;32mfrom\u001B[0m \u001B[1;32mNone\u001B[0m\u001B[1;33m\u001B[0m\u001B[1;33m\u001B[0m\u001B[0m\n\u001B[0m\u001B[0;32m    110\u001B[0m         \u001B[1;32melse\u001B[0m\u001B[1;33m:\u001B[0m\u001B[1;33m\u001B[0m\u001B[1;33m\u001B[0m\u001B[0m\n\u001B[0;32m    111\u001B[0m             \u001B[1;32mreturn\u001B[0m \u001B[1;32mNone\u001B[0m\u001B[1;33m\u001B[0m\u001B[1;33m\u001B[0m\u001B[0m\n",
      "\u001B[1;31mImportError\u001B[0m: Missing optional dependency 'xlrd'. Install xlrd >= 1.0.0 for Excel support Use pip or conda to install xlrd."
     ]
    }
   ],
   "source": [
    "#read excel\n",
    "import pandas as pd\n",
    "\n",
    "df_raw = pd.read_excel(\"C:/Users/Simon Schneider/Nextcloud/EE/6_Daten/Quartiere/Projekt-Varianten-Verzeichnis.xlsx\",\n",
    "                   sheet_name=\"Sample points\",\n",
    "                   header=0)\n",
    "df_raw"
   ],
   "metadata": {
    "collapsed": false,
    "pycharm": {
     "name": "#%%\n"
    }
   }
  },
  {
   "cell_type": "code",
   "execution_count": null,
   "outputs": [],
   "source": [
    "cols = [\"Projekt\",\"Variante\",\"GFZ\",\"PV Strategie\",\"PEB [kWh/m²BGFa]\",\"PV Ertrag [kWh/m²BGFa]\" ]\n",
    "#plot as per quality\n",
    "df = df_raw\n"
   ],
   "metadata": {
    "collapsed": false,
    "pycharm": {
     "name": "#%%\n"
    }
   }
  },
  {
   "cell_type": "code",
   "execution_count": null,
   "outputs": [],
   "source": [
    "import matplotlib.pyplot as plt\n",
    "import seaborn as sns\n",
    "\n",
    "fig, ax = plt.subplots(1,1, figsize=(10,6))\n",
    "sns.set_palette(\"Set2\") #\"Reds\"\n",
    "sns.scatterplot(ax=ax,\n",
    "                x=\"GFZ\",\n",
    "                y=\"PEB [kWh/m²BGFa]\",\n",
    "                hue=\"PV Strategie\",\n",
    "                data=df)\n",
    "\n",
    "\n",
    "\n",
    "t = pd.DataFrame({\"Balance potential\":target(GFZ, A=50, dy=15),\n",
    "                  \"Positive Energy Balance\":np.zeros(len(GFZ)),\n",
    "                  \"Context factor: Density\":-target(GFZ, A=50, dy=15)}, index=GFZ)\n",
    "\n",
    "\n",
    "\n",
    "t_orig = pd.DataFrame({\"ZQ AT\":target(GFZ, A=37, dy=9.2, dx=0.085)}, index=GFZ)\n",
    "\n",
    "\n",
    "t.plot(ax=ax, color=[\"orange\",\"red\", \"green\"])\n",
    "t_orig.plot(ax=ax, color=[\"red\"])\n",
    "ax.set_ylim(-100,200)\n",
    "ax.set_xlim(0,8)\n",
    "ax.set_ylabel(\"PE-Balance $[{kWh/m²a}]$\")\n",
    "ax.set_xlabel(\"Floor space index\")\n",
    "ax.legend(title='', bbox_to_anchor=(1.05, 1), loc='upper left')\n",
    "\n",
    "plt.savefig(\"Hypo\", bbox_inches=\"tight\", dpi=200)"
   ],
   "metadata": {
    "collapsed": false,
    "pycharm": {
     "name": "#%%\n"
    }
   }
  },
  {
   "cell_type": "code",
   "execution_count": null,
   "outputs": [],
   "source": [
    "fig, ax = plt.subplots(1,1, figsize=(10,6))\n",
    "# ax.set(xlabel=\"FSI\", ylabel=\"PE-Target $[kWh/m²_{GCF}]$\")\n",
    "\n",
    "t.plot(ax=ax, color=[\"orange\",\"red\", \"green\"])\n",
    "t_orig.plot(ax=ax, color=[\"red\"])\n",
    "sns.scatterplot(ax=ax,\n",
    "                x=\"GFZ\",\n",
    "                y=\"PEB [kWh/m²BGFa]\",\n",
    "                hue=\"Forschungsprojekt\",\n",
    "                #size=\"PV Ertrag [kWh/m²BGFa]\",\n",
    "                alpha=0.9,\n",
    "                data=df)\n",
    "ax.set_ylim(-100,200)\n",
    "ax.grid(color='grey', linestyle='-', linewidth=0.5)\n",
    "ax.set_xlim(0,8)\n",
    "ax.set_ylabel(\"PE-Bilanz $[{kWh/m²_{BGF}a}]$\")\n",
    "\n",
    "ax.legend(title='', bbox_to_anchor=(1.05, 1), loc='upper left')\n",
    "plt.savefig(\"sample_points\", bbox_inches=\"tight\", dpi=200)"
   ],
   "metadata": {
    "collapsed": false,
    "pycharm": {
     "name": "#%%\n"
    }
   }
  },
  {
   "cell_type": "code",
   "execution_count": null,
   "outputs": [],
   "source": [
    "fig, ax = plt.subplots(1,1, figsize=(10,6))\n",
    "# ax.set(xlabel=\"FSI\", ylabel=\"PE-Target $[kWh/m²_{GCF}]$\")\n",
    "\n",
    "t.plot(ax=ax, color=[\"orange\",\"red\", \"green\"])\n",
    "t_orig.plot(ax=ax, color=[\"red\"])\n",
    "\n",
    "sns.scatterplot(ax=ax,\n",
    "                x=\"GFZ\",\n",
    "                y=\"PEB [kWh/m²BGFa]\",\n",
    "                hue=\"U-Werte\",\n",
    "                #size=\"PV Ertrag [kWh/m²BGFa]\",\n",
    "                alpha=0.9,\n",
    "                data=df[df[\"Forschungsprojekt\"]==\"SC Mikroquartiere\"])\n",
    "ax.set_ylim(-100,200)\n",
    "ax.grid(color='grey', linestyle='-', linewidth=0.5)\n",
    "ax.set_xlim(0,8)\n",
    "ax.set_ylabel(\"PE-Bilanz $[{kWh/m²_{BGF}a}]$\")\n",
    "\n",
    "ax.legend(title='', bbox_to_anchor=(1.05, 1), loc='upper left')\n",
    "plt.savefig(\"Baustandard\", bbox_inches=\"tight\", dpi=200)"
   ],
   "metadata": {
    "collapsed": false,
    "pycharm": {
     "name": "#%%\n"
    }
   }
  },
  {
   "cell_type": "code",
   "execution_count": null,
   "outputs": [],
   "source": [
    "fig, ax = plt.subplots(1,1, figsize=(10,6))\n",
    "# ax.set(xlabel=\"FSI\", ylabel=\"PE-Target $[kWh/m²_{GCF}]$\")\n",
    "\n",
    "#t.plot(ax=ax, color=[\"orange\",\"red\", \"green\"])\n",
    "t_orig.plot(ax=ax, color=[\"red\"])\n",
    "\n",
    "sns.scatterplot(ax=ax,\n",
    "                x=\"GFZ\",\n",
    "                y=\"PEB [kWh/m²BGFa]\",\n",
    "                hue=\"Variante\",\n",
    "                #size=\"PV Ertrag [kWh/m²BGFa]\",\n",
    "                alpha=0.9,\n",
    "                data=df[df[\"Variante\"].isin([\"Fossil\", \"Erneuerbare\"])])\n",
    "#ax.set_ylim(-100,200)\n",
    "ax.grid(color='grey', linestyle='-', linewidth=0.5)\n",
    "ax.set_xlim(0,8)\n",
    "ax.set_ylabel(\"PE-Bilanz $[{kWh/m²_{BGF}a}]$\")\n",
    "\n",
    "ax.legend(title='', bbox_to_anchor=(1.05, 1), loc='upper left')\n",
    "plt.savefig(\"SCMicro\", bbox_inches=\"tight\", dpi=200)"
   ],
   "metadata": {
    "collapsed": false,
    "pycharm": {
     "name": "#%%\n"
    }
   }
  },
  {
   "cell_type": "code",
   "execution_count": null,
   "outputs": [],
   "source": [
    "fig, ax = plt.subplots(1,1, figsize=(10,6))\n",
    "sns.set_palette(\"Reds\")\n",
    "sns.scatterplot(ax=ax,\n",
    "                x=\"GFZ\",\n",
    "                y=\"PEB [kWh/m²BGFa]\",\n",
    "                size=\"PV Ausnutzung\",\n",
    "                hue=\"PV Ausnutzung\",\n",
    "                data=df)\n",
    "\n",
    "\n",
    "\n",
    "t = pd.DataFrame({\"Zielwert\":target(GFZ),\n",
    "                           \"\":np.zeros(len(GFZ))}, index=GFZ)\n",
    "\n",
    "\n",
    "t.plot(ax=ax, color=[\"green\",\"red\"])\n",
    "ax.set_ylim(-100,200)\n",
    "ax.set_xlim(0,8)\n",
    "ax.set_ylabel(\"PE-Bilanz $[{kWh/m²_{BGF}a}]$\")\n",
    "ax.legend(title='', bbox_to_anchor=(1.05, 1), loc='upper left')\n",
    "\n",
    "plt.savefig(\"PV Ausnutzung\", bbox_inches=\"tight\", dpi=200)"
   ],
   "metadata": {
    "collapsed": false,
    "pycharm": {
     "name": "#%%\n"
    }
   }
  },
  {
   "cell_type": "code",
   "execution_count": null,
   "outputs": [],
   "source": [
    "def plot_curve(name, hue, size, savefig=True):\n",
    "    fig, ax = plt.subplots(1,1, figsize=(10,6))\n",
    "    sns.set_palette(\"Set2\")\n",
    "    sns.scatterplot(ax=ax,\n",
    "                    x=\"GFZ\",\n",
    "                    y=\"PEB [kWh/m²BGFa]\",\n",
    "                    size=size,\n",
    "                    hue=hue,\n",
    "                    data=df)\n",
    "\n",
    "    t = pd.DataFrame({\"Zielwert\":target(GFZ),\n",
    "                               \"\":np.zeros(len(GFZ))}, index=GFZ)\n",
    "\n",
    "\n",
    "    t.plot(ax=ax, color=[\"green\",\"red\"])\n",
    "    ax.set_ylim(-100,200)\n",
    "    ax.set_xlim(0,8)\n",
    "    ax.set_ylabel(\"PE-Bilanz $[{kWh/m²_{BGF}a}]$\")\n",
    "    ax.legend(title=name, bbox_to_anchor=(1.05, 1), loc='upper left')\n",
    "\n",
    "    if savefig:\n",
    "        plt.savefig(name, bbox_inches=\"tight\", dpi=200)"
   ],
   "metadata": {
    "collapsed": false,
    "pycharm": {
     "name": "#%%\n"
    }
   }
  },
  {
   "cell_type": "code",
   "execution_count": null,
   "outputs": [],
   "source": [
    "plot_curve(\"PV Ausnutzung\", hue=\"PV Ausnutzung\", size=\"PV Ausnutzung\")"
   ],
   "metadata": {
    "collapsed": false,
    "pycharm": {
     "name": "#%%\n"
    }
   }
  },
  {
   "cell_type": "code",
   "execution_count": null,
   "outputs": [],
   "source": [
    "plot_curve(\"PV Ausnutzung Fassade\", hue=\"PV Ausnutzung Fassade\", size=\"PV Ausnutzung Fassade\")"
   ],
   "metadata": {
    "collapsed": false,
    "pycharm": {
     "name": "#%%\n"
    }
   }
  },
  {
   "cell_type": "code",
   "execution_count": null,
   "outputs": [],
   "source": [
    "plot_curve(\"PV Ertrag\", hue=\"PV Ertrag [kWh/m²BGFa]\", size=\"PV Ertrag [kWh/m²BGFa]\")"
   ],
   "metadata": {
    "collapsed": false,
    "pycharm": {
     "name": "#%%\n"
    }
   }
  },
  {
   "cell_type": "code",
   "execution_count": null,
   "outputs": [],
   "source": [
    "df.columns"
   ],
   "metadata": {
    "collapsed": false,
    "pycharm": {
     "name": "#%%\n"
    }
   }
  },
  {
   "cell_type": "code",
   "execution_count": null,
   "outputs": [],
   "source": [
    "plot_curve(\"Relativ\", hue=\"Überschreitung in %\", size=None)"
   ],
   "metadata": {
    "collapsed": false,
    "pycharm": {
     "name": "#%%\n"
    }
   }
  },
  {
   "cell_type": "code",
   "execution_count": null,
   "outputs": [],
   "source": [
    "\n",
    "import math\n",
    "\n"
   ],
   "metadata": {
    "collapsed": false,
    "pycharm": {
     "name": "#%%\n"
    }
   }
  }
 ],
 "metadata": {
  "kernelspec": {
   "name": "pyped",
   "language": "python",
   "display_name": "pyped"
  },
  "language_info": {
   "codemirror_mode": {
    "name": "ipython",
    "version": 2
   },
   "file_extension": ".py",
   "mimetype": "text/x-python",
   "name": "python",
   "nbconvert_exporter": "python",
   "pygments_lexer": "ipython2",
   "version": "2.7.6"
  }
 },
 "nbformat": 4,
 "nbformat_minor": 0
}
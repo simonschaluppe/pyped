{
 "cells": [
  {
   "cell_type": "code",
   "execution_count": 1,
   "metadata": {
    "collapsed": true
   },
   "outputs": [],
   "source": [
    "import pandas as pd\n",
    "from pyped.excelAdapter.sanitizer import sanitize\n",
    "\n",
    "\n",
    "import xlwings as xw"
   ]
  },
  {
   "cell_type": "code",
   "execution_count": 2,
   "outputs": [
    {
     "data": {
      "text/plain": "<module 'xlwings' from 'C:\\\\Users\\\\Simon Schneider\\\\anaconda\\\\envs\\\\pyped\\\\lib\\\\site-packages\\\\xlwings\\\\__init__.py'>"
     },
     "execution_count": 2,
     "metadata": {},
     "output_type": "execute_result"
    }
   ],
   "source": [
    "xw"
   ],
   "metadata": {
    "collapsed": false,
    "pycharm": {
     "name": "#%%\n"
    }
   }
  },
  {
   "cell_type": "code",
   "execution_count": 3,
   "outputs": [],
   "source": [
    "filepath=\"../data/PEQ_CHEQ.xlsm\"\n",
    "source_book = xw.Book(filepath, read_only=True)\n",
    "\n",
    "template_path = \"../data/clean/Clean_template.xlsx\"\n",
    "standard_book = xw.Book(template_path, read_only=False)\n",
    "\n",
    "sb = standard_book"
   ],
   "metadata": {
    "collapsed": false,
    "pycharm": {
     "name": "#%%\n"
    }
   }
  },
  {
   "cell_type": "code",
   "execution_count": 4,
   "outputs": [
    {
     "data": {
      "text/plain": "[Tables([<Table 'meta' in <Sheet [Clean_template.xlsx]meta>>]),\n Tables([<Table 'District' in <Sheet [Clean_template.xlsx]District>>]),\n Tables([<Table 'Display_2D' in <Sheet [Clean_template.xlsx]Display_2D>>]),\n Tables([<Table 'exchange_ranges' in <Sheet [Clean_template.xlsx]Exchange_Range>>]),\n Tables([<Table 'exchange_results' in <Sheet [Clean_template.xlsx]Exchange_Results>>]),\n Tables([<Table 'exchange_variables' in <Sheet [Clean_template.xlsx]exchange_variables>>]),\n Tables([<Table 'range_HeatingCoolingSeason' in <Sheet [Clean_template.xlsx]HeatingCoolingSeason>>]),\n Tables([<Table 'range_ThermalEnvelope' in <Sheet [Clean_template.xlsx]ThermalEnvelope>>]),\n Tables([<Table 'range_Weatherdata' in <Sheet [Clean_template.xlsx]weather>>]),\n Tables([<Table 'range_Mobility' in <Sheet [Clean_template.xlsx]Mobility>>]),\n Tables([<Table 'range_PVProfile' in <Sheet [Clean_template.xlsx]PVProfile>>]),\n Tables([<Table 'range_CO2Profile' in <Sheet [Clean_template.xlsx]CO2Profile>>]),\n Tables([<Table 'range_DemandSideManagement' in <Sheet [Clean_template.xlsx]DemandSideManagement>>])]"
     },
     "execution_count": 4,
     "metadata": {},
     "output_type": "execute_result"
    }
   ],
   "source": [
    "[s.tables for s in sb.sheets]"
   ],
   "metadata": {
    "collapsed": false,
    "pycharm": {
     "name": "#%%\n"
    }
   }
  },
  {
   "cell_type": "code",
   "execution_count": 5,
   "outputs": [
    {
     "data": {
      "text/plain": "[Tables([]),\n Tables([<Table 'calc_variables' in <Sheet [PEQ_CHEQ.xlsm]Calculation>>]),\n Tables([<Table 'exchange_variables' in <Sheet [PEQ_CHEQ.xlsm]Exchange>>]),\n Tables([<Table 'Tabelle3' in <Sheet [PEQ_CHEQ.xlsm]Results>>]),\n Tables([])]"
     },
     "execution_count": 5,
     "metadata": {},
     "output_type": "execute_result"
    }
   ],
   "source": [
    "[s.tables for s in source_book.sheets]"
   ],
   "metadata": {
    "collapsed": false,
    "pycharm": {
     "name": "#%%\n"
    }
   }
  },
  {
   "cell_type": "code",
   "execution_count": 6,
   "outputs": [
    {
     "name": "stdout",
     "output_type": "stream",
     "text": [
      "meta\n",
      "District\n",
      "Display_2D\n",
      "exchange_ranges\n",
      "exchange_results\n",
      "exchange_variables\n",
      "range_HeatingCoolingSeason\n",
      "range_ThermalEnvelope\n",
      "range_Weatherdata\n",
      "range_Mobility\n",
      "range_PVProfile\n",
      "range_CO2Profile\n",
      "range_DemandSideManagement\n"
     ]
    }
   ],
   "source": [
    "#for table in tables\n",
    "for s in sb.sheets:\n",
    "    for t in s.tables:\n",
    "        print(t.name)"
   ],
   "metadata": {
    "collapsed": false,
    "pycharm": {
     "name": "#%%\n"
    }
   }
  },
  {
   "cell_type": "code",
   "execution_count": 7,
   "outputs": [
    {
     "data": {
      "text/plain": "<Range [Clean_template.xlsx]meta!$A$3>"
     },
     "execution_count": 7,
     "metadata": {},
     "output_type": "execute_result"
    }
   ],
   "source": [
    "meta = sb.sheets[\"meta\"].tables[\"meta\"]\n",
    "row = meta.data_body_range\n",
    "row_end = row.end(\"down\")\n",
    "row_end"
   ],
   "metadata": {
    "collapsed": false,
    "pycharm": {
     "name": "#%%\n"
    }
   }
  },
  {
   "cell_type": "code",
   "execution_count": 8,
   "outputs": [
    {
     "data": {
      "text/plain": "{'file': None, 'date_generated': None}"
     },
     "execution_count": 8,
     "metadata": {},
     "output_type": "execute_result"
    }
   ],
   "source": [
    "row.options(dict).value"
   ],
   "metadata": {
    "collapsed": false,
    "pycharm": {
     "name": "#%%\n"
    }
   }
  },
  {
   "cell_type": "code",
   "execution_count": 9,
   "outputs": [
    {
     "data": {
      "text/plain": "{'Userinput_Projekt__Name_': 'lalaa',\n 'Userinput_Projekt__Datum_': '3.3.2021',\n 'Userinput_Projekt__Beschreibung_': 'lorem ipsum',\n 'Userinput_Projekt__Variante_': '1.1',\n 'Userinput_Projekt__Kommentare_': 'keine',\n 'Userinput_Bezugsgroessen_Gebaeude_VerhaeltnisNGFBGF_': 0.85,\n 'Userinput_Bezugsgroessen_Gebaeude_WohnbauNGF_m2': 5950.0,\n 'Userinput_Bezugsgroessen_Gebaeude_BueroNGF_m2': 2550.0,\n 'Userinput_Bezugsgroessen_Gebaeude_SchuleNGF_m2': 0.0,\n 'Userinput_Bezugsgroessen_Gebaeude_KigaNGF_m2': 0.0,\n 'Userinput_Bezugsgroessen_Gebaeude_HandelNGF_m2': 0.0,\n 'Userinput_Bezugsgroessen_Gebaeude_AnteilNonFoodanHandel_': 0.0,\n 'Userinput_Bezugsgroessen_Gebaeude_Grundstuecksgroesse_m2': 4000.0,\n 'calc_Bezugsgroessen_Gebaeude_BGF_m2': 10000.0,\n 'calc_Bezugsgroessen_Gebaeude_xaw_m': 63.245553203367585,\n 'calc_Bezugsgroessen_Gebaeude_ylength_m': 63.245553203367585,\n 'calc_Bezugsgroessen_Gebaeude_geschosshoehe_brutto_m': 3.5,\n 'calc_Bezugsgroessen_Gebaeude_geschosse_': 7.0,\n 'calc_Bezugsgroessen_Gebaeude_trakttiefe_m': None,\n 'calc_Bezugsgroessen_Gebaeude_lc_': 2.7,\n 'calc_Bezugsgroessen_Gebaeude_Umfang_m': 2887.3771730914586,\n 'calc_Bezugsgroessen_Gebaeude_huelle_m2': 12962.962962962964,\n 'calc_Bezugsgroessen_Gebaeude_volumen_m3brutto': 35000.0,\n 'calc_Bezugsgroessen_Gebaeude_fensterflaechenanteil_': 0.4,\n 'Userinput_Bezugsgroessen_Gebaeude_Fahrzeugstellplaetze_': None,\n 'Userinput_Bezugsgroessen_Gebaeude_PersonendichteWohnen_m2_Person': None,\n 'Userinput_Bezugsgroessen_Gebaeude_PersonendichteBuero_m2_Person': None,\n 'Userinput_Bezugsgroessen_Gebaeude_PersonendichteAusbildung_m2_Person': None,\n 'Userinput_Bezugsgroessen_Gebaeude_PersonendichteHandel_m2_Person': None,\n 'Userinput_Bezugsgroessen_Gebaeude_FlaecheAussenwand_brutto_m2': 10105.820105820105,\n 'Userinput_Bezugsgroessen_Gebaeude_FlaecheAussenwand_m2': 6063.492063492063,\n 'Userinput_Bezugsgroessen_Gebaeude_FlaecheFenster_m2': 4042.328042328042,\n 'Userinput_Bezugsgroessen_Gebaeude_FlaecheDach_m2': 1428.5714285714287,\n 'Userinput_Bezugsgroessen_Gebaeude_FlaecheGrundplatteKellerdecke_m2': 1428.5714285714287}"
     },
     "execution_count": 9,
     "metadata": {},
     "output_type": "execute_result"
    }
   ],
   "source": [
    "calculation = source_book.sheets[\"Calculation\"].tables[\"calc_variables\"].data_body_range.options(dict).value\n",
    "calculation\n",
    "\n"
   ],
   "metadata": {
    "collapsed": false,
    "pycharm": {
     "name": "#%%\n"
    }
   }
  },
  {
   "cell_type": "code",
   "execution_count": 10,
   "outputs": [],
   "source": [
    "\n",
    "meta = standard_book.sheets[\"meta\"].tables[\"meta\"].data_body_range.value\n",
    "\n",
    "meta[0][1] = source_book.fullname\n",
    "\n",
    "from datetime import datetime\n",
    "meta[1][1] = str(datetime.now())[:19]\n",
    "\n",
    "standard_book.sheets[\"meta\"].tables[\"meta\"].data_body_range.value = meta\n"
   ],
   "metadata": {
    "collapsed": false,
    "pycharm": {
     "name": "#%%\n"
    }
   }
  },
  {
   "cell_type": "code",
   "execution_count": 11,
   "outputs": [],
   "source": [
    "vals = sb.sheets[\"exchange_variables\"].tables[\"exchange_variables\"].data_body_range.value\n",
    "\n"
   ],
   "metadata": {
    "collapsed": false,
    "pycharm": {
     "name": "#%%\n"
    }
   }
  }
 ],
 "metadata": {
  "kernelspec": {
   "name": "pyped",
   "language": "python",
   "display_name": "pyped"
  },
  "language_info": {
   "codemirror_mode": {
    "name": "ipython",
    "version": 2
   },
   "file_extension": ".py",
   "mimetype": "text/x-python",
   "name": "python",
   "nbconvert_exporter": "python",
   "pygments_lexer": "ipython2",
   "version": "2.7.6"
  }
 },
 "nbformat": 4,
 "nbformat_minor": 0
}
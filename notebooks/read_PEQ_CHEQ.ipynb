{
 "cells": [
  {
   "cell_type": "code",
   "execution_count": 1,
   "metadata": {
    "collapsed": true
   },
   "outputs": [
    {
     "data": {
      "text/plain": "['impl',\n '__module__',\n '__doc__',\n '__init__',\n 'api',\n '__eq__',\n '__ne__',\n '__hash__',\n 'caller',\n 'set_mock_caller',\n 'macro',\n 'name',\n 'sheets',\n 'app',\n 'close',\n 'save',\n 'fullname',\n 'names',\n 'activate',\n 'selection',\n 'to_pdf',\n '__repr__',\n '__dict__',\n '__weakref__',\n '__str__',\n '__getattribute__',\n '__setattr__',\n '__delattr__',\n '__lt__',\n '__le__',\n '__gt__',\n '__ge__',\n '__new__',\n '__reduce_ex__',\n '__reduce__',\n '__subclasshook__',\n '__init_subclass__',\n '__format__',\n '__sizeof__',\n '__dir__',\n '__class__']"
     },
     "execution_count": 1,
     "metadata": {},
     "output_type": "execute_result"
    }
   ],
   "source": [
    "from pyped import excelLoader\n",
    "\n",
    "\n",
    "wb = excelLoader.xw.Book(\"../data/PEQ_CHEQ.xlsm\")\n",
    "\n",
    "wb.__dir__()"
   ]
  },
  {
   "cell_type": "code",
   "execution_count": 2,
   "outputs": [
    {
     "name": "stdout",
     "output_type": "stream",
     "text": [
      "Widmung\n",
      "Calculation\n",
      "Exchange\n",
      "Results\n",
      "Planungsbegleitung\n"
     ]
    }
   ],
   "source": [
    "for sheet in wb.sheets:\n",
    "    print(sheet.name)"
   ],
   "metadata": {
    "collapsed": false,
    "pycharm": {
     "name": "#%%\n"
    }
   }
  },
  {
   "cell_type": "code",
   "execution_count": 14,
   "outputs": [
    {
     "data": {
      "text/plain": "[['Variable', 'Value'],\n ['Userinput_Projekt__Name_', 'lalaa'],\n ['Userinput_Projekt__Datum_', '3.3.2021'],\n ['Userinput_Projekt__Beschreibung_', 'lorem ipsum'],\n ['Userinput_Projekt__Variante_', '1.1'],\n ['Userinput_Projekt__Kommentare_', 'keine'],\n ['Userinput_Bezugsgroessen_Gebaeude_VerhaeltnisNGFBGF_', 0.85],\n ['Userinput_Bezugsgroessen_Gebaeude_WohnbauNGF_m2', 5950.0],\n ['Userinput_Bezugsgroessen_Gebaeude_BueroNGF_m2', 2550.0],\n ['Userinput_Bezugsgroessen_Gebaeude_SchuleNGF_m2', 0.0],\n ['Userinput_Bezugsgroessen_Gebaeude_KigaNGF_m2', 0.0],\n ['Userinput_Bezugsgroessen_Gebaeude_HandelNGF_m2', 0.0],\n ['Userinput_Bezugsgroessen_Gebaeude_AnteilNonFoodanHandel_', 0.0],\n ['Userinput_Bezugsgroessen_Gebaeude_Grundstuecksgroesse_m2', 4000.0],\n ['calc_Bezugsgroessen_Gebaeude_BGF_m2', 10000.0],\n ['calc_Bezugsgroessen_Gebaeude_xaw_m', 63.245553203367585],\n ['calc_Bezugsgroessen_Gebaeude_ylength_m', 63.245553203367585],\n ['calc_Bezugsgroessen_Gebaeude_geschosshoehe_brutto_m', 3.5],\n ['calc_Bezugsgroessen_Gebaeude_geschosse_', 7.0],\n ['calc_Bezugsgroessen_Gebaeude_trakttiefe_m', None],\n ['calc_Bezugsgroessen_Gebaeude_lc_', 2.7],\n ['calc_Bezugsgroessen_Gebaeude_Umfang_m', 2887.3771730914586],\n ['calc_Bezugsgroessen_Gebaeude_huelle_m2', 12962.962962962964],\n ['calc_Bezugsgroessen_Gebaeude_volumen_m3brutto', 35000.0],\n ['calc_Bezugsgroessen_Gebaeude_fensterflaechenanteil_', 0.4],\n ['Userinput_Bezugsgroessen_Gebaeude_Fahrzeugstellplaetze_', None],\n ['Userinput_Bezugsgroessen_Gebaeude_PersonendichteWohnen_m2_Person', None],\n ['Userinput_Bezugsgroessen_Gebaeude_PersonendichteBuero_m2_Person', None],\n ['Userinput_Bezugsgroessen_Gebaeude_PersonendichteAusbildung_m2_Person',\n  None],\n ['Userinput_Bezugsgroessen_Gebaeude_PersonendichteHandel_m2_Person', None],\n ['Userinput_Bezugsgroessen_Gebaeude_FlaecheAussenwand_brutto_m2',\n  10105.820105820105],\n ['Userinput_Bezugsgroessen_Gebaeude_FlaecheAussenwand_m2', 6063.492063492063],\n ['Userinput_Bezugsgroessen_Gebaeude_FlaecheFenster_m2', 4042.328042328042],\n ['Userinput_Bezugsgroessen_Gebaeude_FlaecheDach_m2', 1428.5714285714287],\n ['Userinput_Bezugsgroessen_Gebaeude_FlaecheGrundplatteKellerdecke_m2',\n  1428.5714285714287]]"
     },
     "execution_count": 14,
     "metadata": {},
     "output_type": "execute_result"
    }
   ],
   "source": [
    "inputs = wb.sheets[\"Calculation\"]\n",
    "\n",
    "vals = inputs.range(\"A1\").options(expand='table').value\n",
    "#inputs.__dir__()\n",
    "vals"
   ],
   "metadata": {
    "collapsed": false,
    "pycharm": {
     "name": "#%%\n"
    }
   }
  },
  {
   "cell_type": "code",
   "execution_count": 4,
   "outputs": [],
   "source": [
    "data = inputs.tables[\"calc_variables\"]\n",
    "\n",
    "#data.__dir__()"
   ],
   "metadata": {
    "collapsed": false,
    "pycharm": {
     "name": "#%%\n"
    }
   }
  },
  {
   "cell_type": "code",
   "execution_count": 5,
   "outputs": [],
   "source": [
    "db = data.data_body_range"
   ],
   "metadata": {
    "collapsed": false,
    "pycharm": {
     "name": "#%%\n"
    }
   }
  },
  {
   "cell_type": "code",
   "execution_count": 6,
   "outputs": [
    {
     "name": "stdout",
     "output_type": "stream",
     "text": [
      "{\n",
      "  \"Projekt\": {\n",
      "    \"name\": \"Projekt\",\n",
      "    \"\": {\n",
      "      \"name\": \"\",\n",
      "      \"Name\": {\n",
      "        \"name\": \"Name\",\n",
      "        \"value\": \"lalaa\",\n",
      "        \"unit\": \"\",\n",
      "        \"type\": \"Userinput\"\n",
      "      },\n",
      "      \"Datum\": {\n",
      "        \"name\": \"Datum\",\n",
      "        \"value\": \"3.3.2021\",\n",
      "        \"unit\": \"\",\n",
      "        \"type\": \"Userinput\"\n",
      "      },\n",
      "      \"Beschreibung\": {\n",
      "        \"name\": \"Beschreibung\",\n",
      "        \"value\": \"lorem ipsum\",\n",
      "        \"unit\": \"\",\n",
      "        \"type\": \"Userinput\"\n",
      "      },\n",
      "      \"Variante\": {\n",
      "        \"name\": \"Variante\",\n",
      "        \"value\": \"1.1\",\n",
      "        \"unit\": \"\",\n",
      "        \"type\": \"Userinput\"\n",
      "      },\n",
      "      \"Kommentare\": {\n",
      "        \"name\": \"Kommentare\",\n",
      "        \"value\": \"keine\",\n",
      "        \"unit\": \"\",\n",
      "        \"type\": \"Userinput\"\n",
      "      }\n",
      "    }\n",
      "  },\n",
      "  \"Bezugsgroessen\": {\n",
      "    \"name\": \"Bezugsgroessen\",\n",
      "    \"Gebaeude\": {\n",
      "      \"name\": \"Gebaeude\",\n",
      "      \"VerhaeltnisNGFBGF\": {\n",
      "        \"name\": \"VerhaeltnisNGFBGF\",\n",
      "        \"value\": 0.85,\n",
      "        \"unit\": \"\",\n",
      "        \"type\": \"Userinput\"\n",
      "      },\n",
      "      \"WohnbauNGF\": {\n",
      "        \"name\": \"WohnbauNGF\",\n",
      "        \"value\": 5950.0,\n",
      "        \"unit\": \"m2\",\n",
      "        \"type\": \"Userinput\"\n",
      "      },\n",
      "      \"BueroNGF\": {\n",
      "        \"name\": \"BueroNGF\",\n",
      "        \"value\": 2550.0,\n",
      "        \"unit\": \"m2\",\n",
      "        \"type\": \"Userinput\"\n",
      "      },\n",
      "      \"SchuleNGF\": {\n",
      "        \"name\": \"SchuleNGF\",\n",
      "        \"value\": 0.0,\n",
      "        \"unit\": \"m2\",\n",
      "        \"type\": \"Userinput\"\n",
      "      },\n",
      "      \"KigaNGF\": {\n",
      "        \"name\": \"KigaNGF\",\n",
      "        \"value\": 0.0,\n",
      "        \"unit\": \"m2\",\n",
      "        \"type\": \"Userinput\"\n",
      "      },\n",
      "      \"HandelNGF\": {\n",
      "        \"name\": \"HandelNGF\",\n",
      "        \"value\": 0.0,\n",
      "        \"unit\": \"m2\",\n",
      "        \"type\": \"Userinput\"\n",
      "      },\n",
      "      \"AnteilNonFoodanHandel\": {\n",
      "        \"name\": \"AnteilNonFoodanHandel\",\n",
      "        \"value\": 0.0,\n",
      "        \"unit\": \"\",\n",
      "        \"type\": \"Userinput\"\n",
      "      },\n",
      "      \"Grundstuecksgroesse\": {\n",
      "        \"name\": \"Grundstuecksgroesse\",\n",
      "        \"value\": 4000.0,\n",
      "        \"unit\": \"m2\",\n",
      "        \"type\": \"Userinput\"\n",
      "      },\n",
      "      \"BGF\": {\n",
      "        \"name\": \"BGF\",\n",
      "        \"value\": 10000.0,\n",
      "        \"unit\": \"m2\",\n",
      "        \"type\": \"calc\"\n",
      "      },\n",
      "      \"xaw\": {\n",
      "        \"name\": \"xaw\",\n",
      "        \"value\": 63.245553203367585,\n",
      "        \"unit\": \"m\",\n",
      "        \"type\": \"calc\"\n",
      "      },\n",
      "      \"ylength\": {\n",
      "        \"name\": \"ylength\",\n",
      "        \"value\": 63.245553203367585,\n",
      "        \"unit\": \"m\",\n",
      "        \"type\": \"calc\"\n",
      "      },\n",
      "      \"geschosshoehe\": {\n",
      "        \"name\": \"geschosshoehe\",\n",
      "        \"value\": 3.5,\n",
      "        \"unit\": \"brutto/m\",\n",
      "        \"type\": \"calc\"\n",
      "      },\n",
      "      \"geschosse\": {\n",
      "        \"name\": \"geschosse\",\n",
      "        \"value\": 7.0,\n",
      "        \"unit\": \"\",\n",
      "        \"type\": \"calc\"\n",
      "      },\n",
      "      \"trakttiefe\": {\n",
      "        \"name\": \"trakttiefe\",\n",
      "        \"value\": null,\n",
      "        \"unit\": \"m\",\n",
      "        \"type\": \"calc\"\n",
      "      },\n",
      "      \"lc\": {\n",
      "        \"name\": \"lc\",\n",
      "        \"value\": 2.7,\n",
      "        \"unit\": \"\",\n",
      "        \"type\": \"calc\"\n",
      "      },\n",
      "      \"Umfang\": {\n",
      "        \"name\": \"Umfang\",\n",
      "        \"value\": 2887.3771730914586,\n",
      "        \"unit\": \"m\",\n",
      "        \"type\": \"calc\"\n",
      "      },\n",
      "      \"huelle\": {\n",
      "        \"name\": \"huelle\",\n",
      "        \"value\": 12962.962962962964,\n",
      "        \"unit\": \"m2\",\n",
      "        \"type\": \"calc\"\n",
      "      },\n",
      "      \"volumen\": {\n",
      "        \"name\": \"volumen\",\n",
      "        \"value\": 35000.0,\n",
      "        \"unit\": \"m3brutto\",\n",
      "        \"type\": \"calc\"\n",
      "      },\n",
      "      \"fensterflaechenanteil\": {\n",
      "        \"name\": \"fensterflaechenanteil\",\n",
      "        \"value\": 0.4,\n",
      "        \"unit\": \"\",\n",
      "        \"type\": \"calc\"\n",
      "      },\n",
      "      \"Fahrzeugstellplaetze\": {\n",
      "        \"name\": \"Fahrzeugstellplaetze\",\n",
      "        \"value\": null,\n",
      "        \"unit\": \"\",\n",
      "        \"type\": \"Userinput\"\n",
      "      },\n",
      "      \"PersonendichteWohnen\": {\n",
      "        \"name\": \"PersonendichteWohnen\",\n",
      "        \"value\": null,\n",
      "        \"unit\": \"m2/Person\",\n",
      "        \"type\": \"Userinput\"\n",
      "      },\n",
      "      \"PersonendichteBuero\": {\n",
      "        \"name\": \"PersonendichteBuero\",\n",
      "        \"value\": null,\n",
      "        \"unit\": \"m2/Person\",\n",
      "        \"type\": \"Userinput\"\n",
      "      },\n",
      "      \"PersonendichteAusbildung\": {\n",
      "        \"name\": \"PersonendichteAusbildung\",\n",
      "        \"value\": null,\n",
      "        \"unit\": \"m2/Person\",\n",
      "        \"type\": \"Userinput\"\n",
      "      },\n",
      "      \"PersonendichteHandel\": {\n",
      "        \"name\": \"PersonendichteHandel\",\n",
      "        \"value\": null,\n",
      "        \"unit\": \"m2/Person\",\n",
      "        \"type\": \"Userinput\"\n",
      "      },\n",
      "      \"FlaecheAussenwand\": {\n",
      "        \"name\": \"FlaecheAussenwand\",\n",
      "        \"value\": 10105.820105820105,\n",
      "        \"unit\": \"brutto/m2\",\n",
      "        \"type\": \"Userinput\"\n",
      "      },\n",
      "      \"FlaecheFenster\": {\n",
      "        \"name\": \"FlaecheFenster\",\n",
      "        \"value\": 4042.328042328042,\n",
      "        \"unit\": \"m2\",\n",
      "        \"type\": \"Userinput\"\n",
      "      },\n",
      "      \"FlaecheDach\": {\n",
      "        \"name\": \"FlaecheDach\",\n",
      "        \"value\": 1428.5714285714287,\n",
      "        \"unit\": \"m2\",\n",
      "        \"type\": \"Userinput\"\n",
      "      },\n",
      "      \"FlaecheGrundplatteKellerdecke\": {\n",
      "        \"name\": \"FlaecheGrundplatteKellerdecke\",\n",
      "        \"value\": 1428.5714285714287,\n",
      "        \"unit\": \"m2\",\n",
      "        \"type\": \"Userinput\"\n",
      "      }\n",
      "    }\n",
      "  }\n",
      "}\n"
     ]
    }
   ],
   "source": [
    "from collections import defaultdict\n",
    "names = defaultdict(None)\n",
    "for row in db.rows:\n",
    "    raw_name = f\"{row[0].value}\".split(\"_\")\n",
    "    typ = raw_name[0]\n",
    "    if typ != \"None\":\n",
    "\n",
    "        category = raw_name[1]\n",
    "        if category not in names.keys():\n",
    "            names[category] = {\n",
    "                \"name\": category,\n",
    "            }\n",
    "        c = names[category]\n",
    "        subcategory = raw_name[2]\n",
    "        if subcategory not in c.keys():\n",
    "            c[subcategory] = {\n",
    "                \"name\": subcategory,\n",
    "            }\n",
    "        sc = c[subcategory]\n",
    "\n",
    "        name = raw_name[3]\n",
    "        if name not in sc.keys():\n",
    "            sc[name] = {\n",
    "                \"name\": name,\n",
    "                \"value\": row[1].value,\n",
    "                \"unit\": \"/\".join(raw_name[4:6]),\n",
    "                \"type\": typ\n",
    "            }\n",
    "        n = sc[name]\n",
    "        #print(name[\"name\"], name[\"value\"], units, f\"{category} > {subcategory}\")\n",
    "    #\n",
    "\n",
    "\n",
    "import json\n",
    "\n",
    "json_object = json.dumps(names, indent = 2)\n",
    "print(json_object)"
   ],
   "metadata": {
    "collapsed": false,
    "pycharm": {
     "name": "#%%\n"
    }
   }
  },
  {
   "cell_type": "code",
   "execution_count": 7,
   "outputs": [],
   "source": [
    "test_path = '../data/test/PEQ_CHEQ.json'\n",
    "with open(test_path, 'w') as outfile:\n",
    "    json.dump(names, outfile)"
   ],
   "metadata": {
    "collapsed": false,
    "pycharm": {
     "name": "#%%\n"
    }
   }
  },
  {
   "cell_type": "code",
   "execution_count": 8,
   "outputs": [
    {
     "name": "stdout",
     "output_type": "stream",
     "text": [
      "5950.0\n"
     ]
    }
   ],
   "source": [
    "from types import SimpleNamespace\n",
    "\n",
    "data = json.loads(json_object, object_hook=lambda d: SimpleNamespace(**d))\n",
    "print(data.Bezugsgroessen.Gebaeude.WohnbauNGF.value)"
   ],
   "metadata": {
    "collapsed": false,
    "pycharm": {
     "name": "#%%\n"
    }
   }
  },
  {
   "cell_type": "code",
   "execution_count": 9,
   "outputs": [
    {
     "name": "stdout",
     "output_type": "stream",
     "text": [
      "BGF 10000.0 m2\n"
     ]
    }
   ],
   "source": [
    "var = data.Bezugsgroessen.Gebaeude.BGF\n",
    "print(var.name, var.value, var.unit)\n",
    "#"
   ],
   "metadata": {
    "collapsed": false,
    "pycharm": {
     "name": "#%%\n"
    }
   }
  },
  {
   "cell_type": "code",
   "execution_count": 10,
   "outputs": [
    {
     "name": "stdout",
     "output_type": "stream",
     "text": [
      "BGF 10000.0 m2\n"
     ]
    }
   ],
   "source": [
    "with open(test_path) as json_file:\n",
    "    data = json.load(json_file, object_hook=lambda d: SimpleNamespace(**d))\n",
    "\n",
    "    var = data.Bezugsgroessen.Gebaeude.BGF\n",
    "    print(var.name, var.value, var.unit)\n"
   ],
   "metadata": {
    "collapsed": false,
    "pycharm": {
     "name": "#%%\n"
    }
   }
  },
  {
   "cell_type": "code",
   "execution_count": 11,
   "outputs": [
    {
     "name": "stdout",
     "output_type": "stream",
     "text": [
      "{'Projekt': {'name': 'Projekt', '': {'name': '', 'Name': {'name': 'Name', 'value': 'lalaa', 'unit': '', 'type': 'Userinput'}, 'Datum': {'name': 'Datum', 'value': '3.3.2021', 'unit': '', 'type': 'Userinput'}, 'Beschreibung': {'name': 'Beschreibung', 'value': 'lorem ipsum', 'unit': '', 'type': 'Userinput'}, 'Variante': {'name': 'Variante', 'value': '1.1', 'unit': '', 'type': 'Userinput'}, 'Kommentare': {'name': 'Kommentare', 'value': 'keine', 'unit': '', 'type': 'Userinput'}}}, 'Bezugsgroessen': {'name': 'Bezugsgroessen', 'Gebaeude': {'name': 'Gebaeude', 'VerhaeltnisNGFBGF': {'name': 'VerhaeltnisNGFBGF', 'value': 0.85, 'unit': '', 'type': 'Userinput'}, 'WohnbauNGF': {'name': 'WohnbauNGF', 'value': 5950.0, 'unit': 'm2', 'type': 'Userinput'}, 'BueroNGF': {'name': 'BueroNGF', 'value': 2550.0, 'unit': 'm2', 'type': 'Userinput'}, 'SchuleNGF': {'name': 'SchuleNGF', 'value': 0.0, 'unit': 'm2', 'type': 'Userinput'}, 'KigaNGF': {'name': 'KigaNGF', 'value': 0.0, 'unit': 'm2', 'type': 'Userinput'}, 'HandelNGF': {'name': 'HandelNGF', 'value': 0.0, 'unit': 'm2', 'type': 'Userinput'}, 'AnteilNonFoodanHandel': {'name': 'AnteilNonFoodanHandel', 'value': 0.0, 'unit': '', 'type': 'Userinput'}, 'Grundstuecksgroesse': {'name': 'Grundstuecksgroesse', 'value': 4000.0, 'unit': 'm2', 'type': 'Userinput'}, 'BGF': {'name': 'BGF', 'value': 10000.0, 'unit': 'm2', 'type': 'calc'}, 'xaw': {'name': 'xaw', 'value': 63.245553203367585, 'unit': 'm', 'type': 'calc'}, 'ylength': {'name': 'ylength', 'value': 63.245553203367585, 'unit': 'm', 'type': 'calc'}, 'geschosshoehe': {'name': 'geschosshoehe', 'value': 3.5, 'unit': 'brutto/m', 'type': 'calc'}, 'geschosse': {'name': 'geschosse', 'value': 7.0, 'unit': '', 'type': 'calc'}, 'trakttiefe': {'name': 'trakttiefe', 'value': None, 'unit': 'm', 'type': 'calc'}, 'lc': {'name': 'lc', 'value': 2.7, 'unit': '', 'type': 'calc'}, 'Umfang': {'name': 'Umfang', 'value': 2887.3771730914586, 'unit': 'm', 'type': 'calc'}, 'huelle': {'name': 'huelle', 'value': 12962.962962962964, 'unit': 'm2', 'type': 'calc'}, 'volumen': {'name': 'volumen', 'value': 35000.0, 'unit': 'm3brutto', 'type': 'calc'}, 'fensterflaechenanteil': {'name': 'fensterflaechenanteil', 'value': 0.4, 'unit': '', 'type': 'calc'}, 'Fahrzeugstellplaetze': {'name': 'Fahrzeugstellplaetze', 'value': None, 'unit': '', 'type': 'Userinput'}, 'PersonendichteWohnen': {'name': 'PersonendichteWohnen', 'value': None, 'unit': 'm2/Person', 'type': 'Userinput'}, 'PersonendichteBuero': {'name': 'PersonendichteBuero', 'value': None, 'unit': 'm2/Person', 'type': 'Userinput'}, 'PersonendichteAusbildung': {'name': 'PersonendichteAusbildung', 'value': None, 'unit': 'm2/Person', 'type': 'Userinput'}, 'PersonendichteHandel': {'name': 'PersonendichteHandel', 'value': None, 'unit': 'm2/Person', 'type': 'Userinput'}, 'FlaecheAussenwand': {'name': 'FlaecheAussenwand', 'value': 10105.820105820105, 'unit': 'brutto/m2', 'type': 'Userinput'}, 'FlaecheFenster': {'name': 'FlaecheFenster', 'value': 4042.328042328042, 'unit': 'm2', 'type': 'Userinput'}, 'FlaecheDach': {'name': 'FlaecheDach', 'value': 1428.5714285714287, 'unit': 'm2', 'type': 'Userinput'}, 'FlaecheGrundplatteKellerdecke': {'name': 'FlaecheGrundplatteKellerdecke', 'value': 1428.5714285714287, 'unit': 'm2', 'type': 'Userinput'}}}}\n"
     ]
    }
   ],
   "source": [
    "with open(test_path) as json_file:\n",
    "    data = json.load(json_file)\n",
    "    print(data)"
   ],
   "metadata": {
    "collapsed": false,
    "pycharm": {
     "name": "#%%\n"
    }
   }
  }
 ],
 "metadata": {
  "kernelspec": {
   "name": "pyped",
   "language": "python",
   "display_name": "pyped"
  },
  "language_info": {
   "codemirror_mode": {
    "name": "ipython",
    "version": 2
   },
   "file_extension": ".py",
   "mimetype": "text/x-python",
   "name": "python",
   "nbconvert_exporter": "python",
   "pygments_lexer": "ipython2",
   "version": "2.7.6"
  }
 },
 "nbformat": 4,
 "nbformat_minor": 0
}